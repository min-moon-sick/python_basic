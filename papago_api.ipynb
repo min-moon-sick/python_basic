{
 "cells": [
  {
   "cell_type": "code",
   "execution_count": 1,
   "id": "dde0fece",
   "metadata": {},
   "outputs": [],
   "source": [
    "# papago api를 활용한 번역 프로그램\n",
    "text = 'request'"
   ]
  },
  {
   "cell_type": "code",
   "execution_count": 3,
   "id": "b07775ee",
   "metadata": {},
   "outputs": [],
   "source": [
    "import requests as req\n",
    "\n",
    "requests_url = \"https://openapi.naver.com/v1/papago/n2mt\"\n",
    "headers = {\"Content-Type\": \"application/x-www-form-urlencoded; charset=UTF-8\",\n",
    "          \"X-Naver-Client-Id\" : \"m3SFJREn4nIrt3gm56aw\",\n",
    "          \"X-Naver-Client-Secret\" : \"wTBxR4jjTY\"}\n",
    "\n",
    "# \"source=ko&target=en&text=만나서 반갑습니다.\"\n",
    "params = {\"source\" : \"en\", \"target\" : \"ko\", \"text\" : text}"
   ]
  },
  {
   "cell_type": "code",
   "execution_count": 10,
   "id": "2fff200e",
   "metadata": {},
   "outputs": [
    {
     "name": "stdout",
     "output_type": "stream",
     "text": [
      "부탁한다\n"
     ]
    }
   ],
   "source": [
    "response = req.post(requests_url, headers = headers, data = params)\n",
    "# print(response.text)\n",
    "\n",
    "res = response.json() # dict 타입으로 변경\n",
    "# print(res)\n",
    "print(res['message']['result']['translatedText'])"
   ]
  },
  {
   "cell_type": "code",
   "execution_count": null,
   "id": "b1d55faf",
   "metadata": {},
   "outputs": [],
   "source": []
  }
 ],
 "metadata": {
  "kernelspec": {
   "display_name": "Python 3 (ipykernel)",
   "language": "python",
   "name": "python3"
  },
  "language_info": {
   "codemirror_mode": {
    "name": "ipython",
    "version": 3
   },
   "file_extension": ".py",
   "mimetype": "text/x-python",
   "name": "python",
   "nbconvert_exporter": "python",
   "pygments_lexer": "ipython3",
   "version": "3.9.7"
  }
 },
 "nbformat": 4,
 "nbformat_minor": 5
}
