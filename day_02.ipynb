{
 "cells": [
  {
   "cell_type": "markdown",
   "id": "bde18559",
   "metadata": {},
   "source": [
    "# boolean 연습 : ==, !=, >, <, >=, <="
   ]
  },
  {
   "cell_type": "code",
   "execution_count": 2,
   "id": "99fadfc8",
   "metadata": {},
   "outputs": [
    {
     "name": "stdout",
     "output_type": "stream",
     "text": [
      "False\n",
      "True\n",
      "False\n",
      "True\n",
      "False\n",
      "True\n",
      "False\n"
     ]
    }
   ],
   "source": [
    "print(10 == 100) # False\n",
    "print(10 < 100) # True\n",
    "print(10 > 100) # False\n",
    "print(10 != 100) # True\n",
    "print(10 >= 100) # False\n",
    "print(10 <= 100) # True\n",
    "print(not 10 <= 100) # False"
   ]
  },
  {
   "cell_type": "code",
   "execution_count": 3,
   "id": "c7152a67",
   "metadata": {},
   "outputs": [
    {
     "name": "stdout",
     "output_type": "stream",
     "text": [
      "False\n",
      "True\n",
      "True\n",
      "False\n"
     ]
    }
   ],
   "source": [
    "print(\"a\" == \"b\") # False\n",
    "print(\"a\" != \"b\") # True\n",
    "print(\"a\" < \"b\") # True\n",
    "print(\"a\" > \"b\") # False"
   ]
  },
  {
   "cell_type": "code",
   "execution_count": 4,
   "id": "31d6e0bc",
   "metadata": {},
   "outputs": [
    {
     "name": "stdout",
     "output_type": "stream",
     "text": [
      "True\n",
      "True\n"
     ]
    }
   ],
   "source": [
    "x = 20\n",
    "print(10 < x <25)\n",
    "\n",
    "# 조건1 and 조건2 -> 둘 다 True일때 True, 나머지는 False\n",
    "print(10<x and x<25)\n",
    "\n",
    "# 조건1 or 조건2 -> 둘 다 False일때 False, 나머지는 True"
   ]
  },
  {
   "cell_type": "code",
   "execution_count": 6,
   "id": "d7c2c861",
   "metadata": {},
   "outputs": [
    {
     "name": "stdout",
     "output_type": "stream",
     "text": [
      "true\n",
      "--------\n"
     ]
    }
   ],
   "source": [
    "# 조건식 : if 표현식 :\n",
    "#             처리문장\n",
    "\n",
    "if True:\n",
    "    print('true')\n",
    "print('--------')\n",
    "\n",
    "if False:\n",
    "    print('false')"
   ]
  },
  {
   "cell_type": "code",
   "execution_count": 7,
   "id": "8b0028b0",
   "metadata": {},
   "outputs": [
    {
     "name": "stdout",
     "output_type": "stream",
     "text": [
      "양수 입니다.\n"
     ]
    }
   ],
   "source": [
    "# 정수를 입력받아 양수이면 '양수 입니다.' 음수이면 '음수입니다.'\n",
    "# 0이면 '0입니다.'를 출력하세요\n",
    "\n",
    "x = 1\n",
    "\n",
    "if x > 0:\n",
    "    print('양수 입니다.')\n",
    "elif x < 0:\n",
    "    print('음수 입니다.')\n",
    "else:\n",
    "    print('0 입니다.')"
   ]
  },
  {
   "cell_type": "code",
   "execution_count": 20,
   "id": "0226e79e",
   "metadata": {},
   "outputs": [
    {
     "name": "stdout",
     "output_type": "stream",
     "text": [
      "정수 입력 :1234\n",
      "짝수입니다.\n",
      "짝수입니다.\n"
     ]
    }
   ],
   "source": [
    "# 정수를 입력 받아 짝수, 홀수 구별\n",
    "\n",
    "x = input(\"정수 입력 :\")\n",
    "\n",
    "if int(x) % 2:\n",
    "    print('홀수입니다.')\n",
    "else:\n",
    "    print('짝수입니다.')\n",
    "    \n",
    "if x[-1] in '13579':\n",
    "    print('홀수입니다.')\n",
    "else:\n",
    "    print('짝수입니다.') \n"
   ]
  },
  {
   "cell_type": "code",
   "execution_count": 22,
   "id": "288827af",
   "metadata": {},
   "outputs": [
    {
     "name": "stdout",
     "output_type": "stream",
     "text": [
      "2021-12-24 10:14:18.905749\n",
      "2021년 12월 24일\n"
     ]
    }
   ],
   "source": [
    "#시간을 다루는 모듈 datatime\n",
    "\n",
    "import datetime\n",
    "\n",
    "now = datetime.datetime.now()\n",
    "print(now)\n",
    "print(\"{}년 {}월 {}일\".format(now.year, now.month, now.day))"
   ]
  },
  {
   "cell_type": "code",
   "execution_count": 24,
   "id": "bee9a3f2",
   "metadata": {},
   "outputs": [
    {
     "name": "stdout",
     "output_type": "stream",
     "text": [
      "<class 'int'>\n",
      "겨울\n"
     ]
    }
   ],
   "source": [
    "# 지금 시간이 오전인지 오후인지 출력\n",
    "# 지금 겨울(1~2, 12), 봄(3~5), 여름(6~8), 가을(9~11) 계절 출력\n",
    "print(type(now.month))\n",
    "\n",
    "if 3 <= now.month <=5:\n",
    "    print(\"봄\")\n",
    "elif 6 <= now.month <=8:\n",
    "    print(\"여름\")\n",
    "elif 9 <= now.month <=11:\n",
    "    print(\"가을\")\n",
    "else:\n",
    "    print(\"겨울\")\n",
    "    \n",
    "\n"
   ]
  },
  {
   "cell_type": "code",
   "execution_count": 38,
   "id": "b6656ef1",
   "metadata": {},
   "outputs": [
    {
     "name": "stdout",
     "output_type": "stream",
     "text": [
      "1 + 2\n",
      "3\n"
     ]
    }
   ],
   "source": [
    "# 계산식을 읿력 받아 처음 문자와 마지막 문자가 숫자가 입력되지 않으면 '계산불가'\n",
    "\n",
    "input_sent = input().split()\n",
    "\n",
    "if input_sent[0].isdigit() and input_sent[-1].isdigit():\n",
    "    if input_sent[1] == '+':\n",
    "        print(int(input_sent[0]) + int(input_sent[-1]) )\n",
    "    elif input_sent[1] == '-':\n",
    "        print(int(input_sent[0]) - int(input_sent[-1]) )\n",
    "    elif input_sent[1] == '*':\n",
    "        print(int(input_sent[0]) * int(input_sent[-1]) )\n",
    "    else:     \n",
    "        print(int(input_sent[0]) / int(input_sent[-1]) )\n",
    "else:\n",
    "    print(\"계산 불가\")"
   ]
  },
  {
   "cell_type": "markdown",
   "id": "8506448e",
   "metadata": {},
   "source": [
    "## 리스트"
   ]
  },
  {
   "cell_type": "code",
   "execution_count": 40,
   "id": "77d870c4",
   "metadata": {},
   "outputs": [
    {
     "name": "stdout",
     "output_type": "stream",
     "text": [
      "l_a + l_b :  [1, 2, 3, 4, 5, 6]\n",
      "l_a *3b :  [1, 2, 3, 1, 2, 3, 1, 2, 3]\n",
      "l_a  :  [1, 2, 3, '학생']\n",
      "l_a  :  [1, 2, 3, '학생', [4, 5, 6]]\n",
      "l_a  :  [1, '1추가', 2, 3, '학생', [4, 5, 6]]\n",
      "lenl_a  :  6\n",
      "['1추가', 2, 3, '학생']\n"
     ]
    }
   ],
   "source": [
    "l_a = [1, 2, 3]\n",
    "l_b = [4, 5, 6]\n",
    "\n",
    "print(\"l_a + l_b : \",l_a + l_b)\n",
    "print(\"l_a *3b : \",l_a *3)\n",
    "\n",
    "# 리스트 요소 추가(.append , .insert, .extend)\n",
    "l_a.append('학생')\n",
    "print(\"l_a  : \",l_a )\n",
    "l_a.append(l_b)\n",
    "print(\"l_a  : \",l_a )\n",
    "\n",
    "l_a.insert(1,'1추가')  # 인덱스, 삽입할 변수\n",
    "print(\"l_a  : \",l_a )\n",
    "print(\"lenl_a  : \",len(l_a ))\n",
    "print(l_a[1:-1])"
   ]
  },
  {
   "cell_type": "code",
   "execution_count": 42,
   "id": "660f7c5e",
   "metadata": {},
   "outputs": [
    {
     "name": "stdout",
     "output_type": "stream",
     "text": [
      "l_a  :  [1, 2, 3, 4, 5, 6]\n"
     ]
    }
   ],
   "source": [
    "l_a = [1, 2, 3]\n",
    "l_b = [4, 5, 6]\n",
    "\n",
    "l_a.extend(l_b)\n",
    "print(\"l_a  : \",l_a )"
   ]
  },
  {
   "cell_type": "code",
   "execution_count": 45,
   "id": "77f5ee73",
   "metadata": {},
   "outputs": [
    {
     "name": "stdout",
     "output_type": "stream",
     "text": [
      "[4, 5, 6]\n",
      "[4, 5, 6]\n",
      "[10, 5, 6]\n"
     ]
    }
   ],
   "source": [
    "# 리스트 요소 제거\n",
    "\n",
    "l_a.pop(1) # 인덱스\n",
    "\n",
    "l_c = l_b.copy() # 내용 복사\n",
    "l_d = l_b.copy() # 주소 복사\n",
    "\n",
    "l_d[0] = 10\n",
    "\n",
    "print(l_b)\n",
    "print(l_c)\n",
    "print(l_d)  # l_b에 종속된다."
   ]
  },
  {
   "cell_type": "code",
   "execution_count": 51,
   "id": "970a531c",
   "metadata": {},
   "outputs": [
    {
     "name": "stdout",
     "output_type": "stream",
     "text": [
      "20 10\n",
      "165\n"
     ]
    }
   ],
   "source": [
    "# 두 숫자를 입력받아 두 수 사이의 합을 구하기\n",
    "num = input().split()\n",
    "\n",
    "if num[0].isdigit() and num[1].isdigit():    \n",
    "    start_num, end_num = int(num[0]), int(num[1])\n",
    "\n",
    "    if start_num > end_num:\n",
    "        end_num, start_num = int(num[0]), int(num[1])\n",
    "    sum = 0\n",
    "    for i in range(start_num,end_num+1):\n",
    "        sum += i\n",
    "    print(sum)\n",
    "else:\n",
    "    print(\"숫자가 아님\")\n"
   ]
  },
  {
   "cell_type": "markdown",
   "id": "55a661d1",
   "metadata": {},
   "source": [
    "## 딕셔너리"
   ]
  },
  {
   "cell_type": "code",
   "execution_count": 70,
   "id": "1eddedbf",
   "metadata": {},
   "outputs": [
    {
     "name": "stdout",
     "output_type": "stream",
     "text": [
      "{'name': 'a b c', 'type': '1 2 3'}\n",
      "a b c\n",
      "{'name': 'a b c', 'type': '1 2 3', 'hey': ['x', 'y', 'z']}\n",
      "exist\n",
      "name : a b c\n",
      "type : 1 2 3\n",
      "hey : ['x', 'y', 'z']\n",
      "<class 'dict'> <class 'str'>\n",
      "@@@@@@\n",
      "name : a b c\n",
      "type : 1 2 3\n",
      "hey : ['x', 'y', 'z']\n"
     ]
    }
   ],
   "source": [
    "dict_a = {\"name\" :'a b c',\n",
    "         \"type\": \"1 2 3\"\n",
    "}\n",
    "\n",
    "print(dict_a)\n",
    "print(dict_a[\"name\"])\n",
    "dict_a[\"hey\"] = [\"x\", \"y\", \"z\"]\n",
    "print(dict_a)\n",
    "\n",
    "if 'name' in dict_a:\n",
    "    print(\"exist\")\n",
    "    \n",
    "key = 'abcd'\n",
    "\n",
    "for key in dict_a:\n",
    "    print(\"{} : {}\".format(key, dict_a[key]))\n",
    "\n",
    "print(type(dict_a), type(dict_a['name']))\n",
    "\n",
    "print(\"@@@@@@\")\n",
    "for key, value in dict_a.items():\n",
    "    print(\"{} : {}\".format(key, value))"
   ]
  },
  {
   "cell_type": "code",
   "execution_count": null,
   "id": "7f96de0b",
   "metadata": {},
   "outputs": [],
   "source": [
    "list_a = []\n",
    "dict_a = {}\n",
    "\n",
    "# 1. 키보드에서 숫자를 입력 받아 리스트에 저장한후 입력한 전체 데이터의 합을 출력\n",
    "#     5회 입력\n",
    "for i in range(5):\n",
    "    list_a.append(int(input()))\n",
    "\n",
    "for i in range(len(list_a)):\n",
    "        sum_a += int(list_a[i])\n",
    "\n",
    "print(sum_a)"
   ]
  },
  {
   "cell_type": "code",
   "execution_count": 10,
   "id": "9de2005f",
   "metadata": {},
   "outputs": [
    {
     "name": "stdout",
     "output_type": "stream",
     "text": [
      "이름 국어 영어 수학 점수 > 홍길동 99 88 77\n",
      "이름 국어 영어 수학 점수 > 김철수 88 99 60\n",
      "이름 국어 영어 수학 점수 > 개나리 55 66 77\n",
      "이름 국어 영어 수학 점수 > 바난 66 77 77\n",
      "이름 국어 영어 수학 점수 > quit\n",
      "{'홍길동': ['99', '88', '77', 264], '김철수': ['88', '99', '60', 247], '개나리': ['55', '66', '77', 198], '바난': ['66', '77', '77', 220]}\n"
     ]
    }
   ],
   "source": [
    "# 2. 키보드에서 이름 국어 영어 수학 점수를 입력 받아 딕셔너리에 저장한 후 합계를 딕셔너리에 추가하고 결과 출력\n",
    "#     이름에 quit이 입력되면 입력 종료\n",
    "list_a = []\n",
    "dict_a = {}\n",
    "sum_dict = 0\n",
    "\n",
    "while 1:\n",
    "    data = input(\"이름 국어 영어 수학 점수 > \").split()\n",
    "\n",
    "    if data[0] == \"quit\":\n",
    "        break\n",
    "    \n",
    "    dict_a[data[0]] = [data[1], data[2], data[3], int(data[1]) + int(data[2]) + int(data[3])]\n",
    "    \n",
    "print(dict_a)"
   ]
  },
  {
   "cell_type": "code",
   "execution_count": 11,
   "id": "95c732e4",
   "metadata": {},
   "outputs": [
    {
     "name": "stdout",
     "output_type": "stream",
     "text": [
      "홍길동\n",
      "['99', '88', '77', 264]\n"
     ]
    }
   ],
   "source": [
    "#3. 키보드에서 이름을 입력받아 저장된 딕셔너리의 이름이 있는지 확인하고 있으면 점수 출력, 없으면 '자료 없음'으로 출력\n",
    "\n",
    "search_name = input()\n",
    "if search_name in dict_a:\n",
    "    print(dict_a[search_name])\n",
    "else:\n",
    "    print(\"없습니다\")"
   ]
  },
  {
   "cell_type": "code",
   "execution_count": 15,
   "id": "b5d8ba2b",
   "metadata": {},
   "outputs": [
    {
     "name": "stdout",
     "output_type": "stream",
     "text": [
      "{1: 3, 2: 4, 6: 1, 8: 2, 4: 3, 3: 3, 9: 2, 5: 2, 7: 2}\n"
     ]
    }
   ],
   "source": [
    "# 172p 연습문제 3\n",
    "num = [1,2,6,8,4,3,2,1,9,5,4,7,2,1,3,5,4,8,9,7,2,3]\n",
    "cnt = {}\n",
    "\n",
    "for i in num:\n",
    "    if i in cnt:\n",
    "        cnt[i] += 1\n",
    "    else:\n",
    "        cnt[i] = 1\n",
    "print(cnt)"
   ]
  },
  {
   "cell_type": "code",
   "execution_count": null,
   "id": "c69dd622",
   "metadata": {},
   "outputs": [],
   "source": [
    "#173p 연습문제 4"
   ]
  }
 ],
 "metadata": {
  "kernelspec": {
   "display_name": "Python 3 (ipykernel)",
   "language": "python",
   "name": "python3"
  },
  "language_info": {
   "codemirror_mode": {
    "name": "ipython",
    "version": 3
   },
   "file_extension": ".py",
   "mimetype": "text/x-python",
   "name": "python",
   "nbconvert_exporter": "python",
   "pygments_lexer": "ipython3",
   "version": "3.9.7"
  }
 },
 "nbformat": 4,
 "nbformat_minor": 5
}
