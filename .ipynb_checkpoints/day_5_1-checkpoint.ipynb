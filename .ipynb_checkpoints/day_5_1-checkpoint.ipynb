{
 "cells": [
  {
   "cell_type": "code",
   "execution_count": 3,
   "id": "5ce07017",
   "metadata": {},
   "outputs": [
    {
     "name": "stdout",
     "output_type": "stream",
     "text": [
      "-0.5440211108893698\n",
      "6\n",
      "5\n"
     ]
    }
   ],
   "source": [
    "# 표준 모델 삽입\n",
    "import math\n",
    "\n",
    "print(math.sin(10))\n",
    "print(math.ceil(5.6))  # 내부 숫자보다 큰 가장 작은 정수 (올림)\n",
    "print(math.floor(5.6)) # 내부 숫자보다 작은 정수 중에 가장 큰 정수(버림)"
   ]
  },
  {
   "cell_type": "code",
   "execution_count": 5,
   "id": "a362fda6",
   "metadata": {},
   "outputs": [
    {
     "name": "stdout",
     "output_type": "stream",
     "text": [
      "-0.8390715290764524\n",
      "6\n",
      "5\n"
     ]
    }
   ],
   "source": [
    "from math import cos, ceil, floor\n",
    "\n",
    "print(cos(10))\n",
    "print(ceil(5.6))\n",
    "print(floor(5.6))"
   ]
  },
  {
   "cell_type": "code",
   "execution_count": 11,
   "id": "95f6b274",
   "metadata": {},
   "outputs": [
    {
     "name": "stdout",
     "output_type": "stream",
     "text": [
      "random() :  0.7068149868562386\n",
      "uniform() :  13.056457585335538\n",
      "randrange() :  10\n",
      "choice() :  7\n",
      "shuffle() :  None [0, 7, 5, 8, 3, 1, 2, 6, 9, 4]\n",
      "sample() :  [8, 3, 9]\n"
     ]
    }
   ],
   "source": [
    "import random as rnd\n",
    "\n",
    "#rand() : 0.0 < x < 1.0 사이의 float 리턴\n",
    "print(\"random() : \", rnd.random() )\n",
    "\n",
    "#uniform(min, max) : min < x < max 사이의 float 리턴\n",
    "print(\"uniform() : \", rnd.uniform(10, 20) )\n",
    "\n",
    "#randrange([min,], max) : 0.0 < x < 1.0 사이의 int 리턴, 0부터 max\n",
    "print(\"randrange() : \", rnd.randrange(10,20) )\n",
    "\n",
    "#choice(list) : 리스트 내부의 임의의 요소를 리턴\n",
    "print(\"choice() : \", rnd.choice(list(range(10))))\n",
    "\n",
    "#shuffle(list) : 리스트 요소를 랜덤하게 리턴\n",
    "a = list(range(10))\n",
    "print(\"shuffle() : \", rnd.shuffle(a),a)\n",
    "\n",
    "#sample(list) : 리스트에서 숫자의 갯수 요소를 랜덤하게 리턴\n",
    "a = list(range(10))\n",
    "print(\"sample() : \", rnd.sample(a, k=3))\n"
   ]
  },
  {
   "cell_type": "code",
   "execution_count": 12,
   "id": "f02ab660",
   "metadata": {},
   "outputs": [
    {
     "name": "stdout",
     "output_type": "stream",
     "text": [
      "copyright :  Copyright (c) 2001-2021 Python Software Foundation.\n",
      "All Rights Reserved.\n",
      "\n",
      "Copyright (c) 2000 BeOpen.com.\n",
      "All Rights Reserved.\n",
      "\n",
      "Copyright (c) 1995-2001 Corporation for National Research Initiatives.\n",
      "All Rights Reserved.\n",
      "\n",
      "Copyright (c) 1991-1995 Stichting Mathematisch Centrum, Amsterdam.\n",
      "All Rights Reserved.\n",
      "version :  3.9.7 (default, Sep 16 2021, 16:59:28) [MSC v.1916 64 bit (AMD64)]\n"
     ]
    }
   ],
   "source": [
    "import sys\n",
    "\n",
    "print(\"copyright : \", sys.copyright)\n",
    "print(\"version : \", sys.version)\n",
    "# sys.exit()"
   ]
  },
  {
   "cell_type": "code",
   "execution_count": 14,
   "id": "f409d98b",
   "metadata": {},
   "outputs": [
    {
     "name": "stdout",
     "output_type": "stream",
     "text": [
      "현재 운영체제 :  nt\n",
      "현재 작업 경로 :  C:\\Users\\HPE\\Documents\\python_basic\\python_basic\n",
      "현재 폴더 리스트 :  ['.git', '.ipynb_checkpoints', 'a.txt', 'dataset', 'day_01.ipynb', 'day_02.ipynb', 'day_1.ipynb', 'day_3.ipynb', 'day_4.ipynb', 'file.txt', 'Untitled.ipynb']\n"
     ]
    }
   ],
   "source": [
    "# os 모듈 : 운영체제와 관련된 명령어\n",
    "import os\n",
    "\n",
    "print(\"현재 운영체제 : \", os.name)\n",
    "print(\"현재 작업 경로 : \", os.getcwd())\n",
    "print(\"현재 폴더 리스트 : \", os.listdir())\n",
    "\n",
    "#디렉토리 생성\n",
    "os.mkdir('test_dir')"
   ]
  },
  {
   "cell_type": "code",
   "execution_count": null,
   "id": "a1fa8492",
   "metadata": {},
   "outputs": [],
   "source": []
  }
 ],
 "metadata": {
  "kernelspec": {
   "display_name": "Python 3 (ipykernel)",
   "language": "python",
   "name": "python3"
  },
  "language_info": {
   "codemirror_mode": {
    "name": "ipython",
    "version": 3
   },
   "file_extension": ".py",
   "mimetype": "text/x-python",
   "name": "python",
   "nbconvert_exporter": "python",
   "pygments_lexer": "ipython3",
   "version": "3.9.7"
  }
 },
 "nbformat": 4,
 "nbformat_minor": 5
}
