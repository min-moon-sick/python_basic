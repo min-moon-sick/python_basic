{
 "cells": [
  {
   "cell_type": "code",
   "execution_count": 6,
   "id": "a1891c9e",
   "metadata": {},
   "outputs": [
    {
     "name": "stdout",
     "output_type": "stream",
     "text": [
      "[0, 1, 2, 3, 4]\n",
      "0 = 반복횟수\n",
      "1 = 반복횟수\n",
      "2 = 반복횟수\n",
      "3 = 반복횟수\n",
      "4 = 반복횟수\n",
      "\n",
      "\n",
      "0 = 반복횟수\n",
      "2 = 반복횟수\n",
      "4 = 반복횟수\n"
     ]
    }
   ],
   "source": [
    "# range 연습하기\n",
    "\n",
    "print(list(range(5)))\n",
    "\n",
    "for i in range(5):\n",
    "    print(str(i) + ' = 반복횟수')\n",
    "    \n",
    "print('\\n')\n",
    "for i in range(0,5,2):\n",
    "    print(str(i) + ' = 반복횟수')"
   ]
  },
  {
   "cell_type": "code",
   "execution_count": 11,
   "id": "4360535f",
   "metadata": {},
   "outputs": [
    {
     "name": "stdout",
     "output_type": "stream",
     "text": [
      "[1, 3, 5, 7, 9]\n",
      "9\n",
      "7\n",
      "5\n",
      "3\n",
      "1\n",
      "\n",
      "\n",
      "0 1\n",
      "1 3\n",
      "2 5\n",
      "3 7\n",
      "4 9\n"
     ]
    }
   ],
   "source": [
    "# list 와 for 사용하기\n",
    "\n",
    "list_a = [i for i in range(1,10,2)]\n",
    "\n",
    "print(list_a)\n",
    "\n",
    "for i in reversed(list_a):\n",
    "    print(i)\n",
    "\n",
    "print('\\n')\n",
    "\n",
    "for idx, value in enumerate(list_a):\n",
    "    print(idx, value)"
   ]
  },
  {
   "cell_type": "code",
   "execution_count": 17,
   "id": "7fe0ac77",
   "metadata": {},
   "outputs": [
    {
     "name": "stdout",
     "output_type": "stream",
     "text": [
      "0\n",
      "1\n",
      "2\n",
      "3\n",
      "4\n",
      "5\n",
      "6\n",
      "7\n",
      "8\n",
      "9\n",
      "\n",
      "\n",
      "[1, 1]\n"
     ]
    }
   ],
   "source": [
    "# while 사용하기\n",
    "\n",
    "# while 1:\n",
    "#     print(\".\", end=\"\")\n",
    "\n",
    "i = 0 \n",
    "while i < 10:\n",
    "    print(i)\n",
    "    i += 1\n",
    "    \n",
    "print('\\n')\n",
    "\n",
    "list_b = [1, 2, 1, 2]\n",
    "value = 2 \n",
    "\n",
    "while value in list_b:\n",
    "    list_b.remove(value)\n",
    "    \n",
    "print(list_b)"
   ]
  },
  {
   "cell_type": "code",
   "execution_count": null,
   "id": "62ee85c7",
   "metadata": {},
   "outputs": [],
   "source": [
    "# 이름과 점수를 입력받아 딕셔너리 저장\n",
    "# 이름에 'q'가 입력되면 입력 종료\n",
    "# 검색할 이름을 입력받아 해당이름이 있으면 이름과 점수 출력\n",
    "# 검색할 이름이 없으면 '자료 없음'으로 출력\n",
    "\n",
    "dict_data = {}\n",
    "while 1:\n",
    "    data = input(\"이름, 점수 : \").split()\n",
    "    \n",
    "    if 'q' in data[0]:\n",
    "        break\n",
    "    else:    \n",
    "        dict_data[data[0]] = data[1]\n",
    "\n",
    "print('\\n')\n",
    "while 1:\n",
    "    name = input(\"이름 : \")\n",
    "    \n",
    "    if name in dict_data.keys():\n",
    "        print(name, dict_data[name])\n",
    "    else:\n",
    "        print('자료 없음')\n",
    "        break"
   ]
  },
  {
   "cell_type": "code",
   "execution_count": 26,
   "id": "0b563c8c",
   "metadata": {},
   "outputs": [
    {
     "name": "stdout",
     "output_type": "stream",
     "text": [
      "계산식 입력 : q\n"
     ]
    }
   ],
   "source": [
    "# 계산식을 입력받아 계산 결과를 출력하는 프로그램 작성\n",
    "# 계산식 예시 10 + 20 -> 10 + 20 = 30\n",
    "# 처음 문자에 q가 입력되면 프로그램 종료\n",
    "# 단, +, - , *, /, %, // 가능하도록\n",
    "\n",
    "while 1:\n",
    "    data = input(\"계산식 입력 : \").split()\n",
    "    if data[0] == 'q':\n",
    "        break\n",
    "    if data[1] == '+':\n",
    "        print(\"{} + {} = {}\".format(data[0], data[2], int(data[0]) + int(data[2])))\n",
    "    elif data[1] == '-':\n",
    "        print(\"{} - {} = {}\".format(data[0], data[2], int(data[0]) - int(data[2])))\n",
    "    elif data[1] == '*':\n",
    "        print(\"{} * {} = {}\".format(data[0], data[2], int(data[0]) * int(data[2])))\n",
    "    elif data[1] == '/':\n",
    "        print(\"{} / {} = {}\".format(data[0], data[2], int(data[0]) / int(data[2])))\n",
    "    elif data[1] == '%':\n",
    "        print(\"{} % {} = {}\".format(data[0], data[2], int(data[0]) % int(data[2])))    \n",
    "    else:\n",
    "        print(\"{} // {} = {}\".format(data[0], data[2], int(data[0]) // int(data[2])))\n",
    "    data = []\n",
    "        "
   ]
  },
  {
   "cell_type": "code",
   "execution_count": null,
   "id": "78b9bd47",
   "metadata": {},
   "outputs": [],
   "source": []
  },
  {
   "cell_type": "code",
   "execution_count": null,
   "id": "66e18f1a",
   "metadata": {},
   "outputs": [],
   "source": []
  }
 ],
 "metadata": {
  "kernelspec": {
   "display_name": "Python 3 (ipykernel)",
   "language": "python",
   "name": "python3"
  },
  "language_info": {
   "codemirror_mode": {
    "name": "ipython",
    "version": 3
   },
   "file_extension": ".py",
   "mimetype": "text/x-python",
   "name": "python",
   "nbconvert_exporter": "python",
   "pygments_lexer": "ipython3",
   "version": "3.9.7"
  }
 },
 "nbformat": 4,
 "nbformat_minor": 5
}
