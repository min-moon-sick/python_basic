{
 "cells": [
  {
   "cell_type": "code",
   "execution_count": 1,
   "id": "021f51d6",
   "metadata": {},
   "outputs": [
    {
     "name": "stdout",
     "output_type": "stream",
     "text": [
      "get_circum(10) 62.800000000000004\n",
      "get_circle_area(10) 314.0\n"
     ]
    }
   ],
   "source": [
    "# test 모듈 생성\n",
    "\n",
    "pi = 3.14\n",
    "\n",
    "def num_input():\n",
    "    return float(input(\"숫자 입력 > \"))\n",
    "\n",
    "def get_circum(radius):\n",
    "    return radius * pi * 2\n",
    "\n",
    "def get_circle_area(radius):\n",
    "    return radius * radius * pi\n",
    "\n",
    "# 활용 예\n",
    "if \n",
    "print(\"get_circum(10)\", get_circum(10))\n",
    "print(\"get_circle_area(10)\", get_circle_area(10))"
   ]
  },
  {
   "cell_type": "code",
   "execution_count": null,
   "id": "a3fbbbad",
   "metadata": {},
   "outputs": [],
   "source": []
  }
 ],
 "metadata": {
  "kernelspec": {
   "display_name": "Python 3 (ipykernel)",
   "language": "python",
   "name": "python3"
  },
  "language_info": {
   "codemirror_mode": {
    "name": "ipython",
    "version": 3
   },
   "file_extension": ".py",
   "mimetype": "text/x-python",
   "name": "python",
   "nbconvert_exporter": "python",
   "pygments_lexer": "ipython3",
   "version": "3.9.7"
  }
 },
 "nbformat": 4,
 "nbformat_minor": 5
}
