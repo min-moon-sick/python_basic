{
 "cells": [
  {
   "cell_type": "code",
   "execution_count": 6,
   "id": "e608be73",
   "metadata": {},
   "outputs": [],
   "source": [
    "# 학생, 국어, 영어, 수학 점수를 입력 받아  student_dict{}에 저장한 후 출력\n",
    "\n",
    "students = []\n",
    "score_name = ['kor', 'eng', 'math']\n",
    "def create_student():\n",
    "    \n",
    "    student = {}\n",
    "    name = input(\"학생 이름 입력 : \")\n",
    "    \n",
    "    if name == 'q':\n",
    "        return student\n",
    "    student['name'] = name\n",
    "    score = list(map(int,input(\"국어, 영어, 수학 점수 입력 > \").split()))\n",
    "    \n",
    "    for idx, value in enumerate(score):\n",
    "        student[idx] = score[idx]\n",
    "        \n",
    "    return student"
   ]
  },
  {
   "cell_type": "code",
   "execution_count": 7,
   "id": "6bd2491a",
   "metadata": {},
   "outputs": [
    {
     "name": "stdout",
     "output_type": "stream",
     "text": [
      "학생 이름 입력 : 1\n",
      "국어, 영어, 수학 점수 입력 > 1 2 3\n"
     ]
    },
    {
     "ename": "AttributeError",
     "evalue": "'dict' object has no attribute 'append'",
     "output_type": "error",
     "traceback": [
      "\u001b[1;31m---------------------------------------------------------------------------\u001b[0m",
      "\u001b[1;31mAttributeError\u001b[0m                            Traceback (most recent call last)",
      "\u001b[1;32m~\\AppData\\Local\\Temp/ipykernel_1224/1980987812.py\u001b[0m in \u001b[0;36m<module>\u001b[1;34m\u001b[0m\n\u001b[0;32m      4\u001b[0m         \u001b[1;32mbreak\u001b[0m\u001b[1;33m\u001b[0m\u001b[1;33m\u001b[0m\u001b[0m\n\u001b[0;32m      5\u001b[0m \u001b[1;33m\u001b[0m\u001b[0m\n\u001b[1;32m----> 6\u001b[1;33m     \u001b[0mstudents\u001b[0m\u001b[1;33m.\u001b[0m\u001b[0mappend\u001b[0m\u001b[1;33m(\u001b[0m\u001b[0mstudent\u001b[0m\u001b[1;33m)\u001b[0m\u001b[1;33m\u001b[0m\u001b[1;33m\u001b[0m\u001b[0m\n\u001b[0m\u001b[0;32m      7\u001b[0m \u001b[1;33m\u001b[0m\u001b[0m\n\u001b[0;32m      8\u001b[0m \u001b[1;32mfor\u001b[0m \u001b[0midx\u001b[0m\u001b[1;33m,\u001b[0m \u001b[0mvalue\u001b[0m \u001b[1;32min\u001b[0m \u001b[0mstudents\u001b[0m\u001b[1;33m.\u001b[0m\u001b[0mitems\u001b[0m\u001b[1;33m(\u001b[0m\u001b[1;33m)\u001b[0m\u001b[1;33m:\u001b[0m\u001b[1;33m\u001b[0m\u001b[1;33m\u001b[0m\u001b[0m\n",
      "\u001b[1;31mAttributeError\u001b[0m: 'dict' object has no attribute 'append'"
     ]
    }
   ],
   "source": [
    "while 1:\n",
    "    students = create_student()\n",
    "    if students['name'] == 'q':\n",
    "        break\n",
    "    \n",
    "    students.append(student)\n",
    "    \n",
    "for idx, value in students.items():\n",
    "    for value in students.values():\n",
    "        for key in value:\n",
    "            print(\"{} : {}\\t\".format(key, value[key]), sep='')\n",
    "        "
   ]
  },
  {
   "cell_type": "markdown",
   "id": "65388f42",
   "metadata": {},
   "source": [
    "### "
   ]
  }
 ],
 "metadata": {
  "kernelspec": {
   "display_name": "Python 3 (ipykernel)",
   "language": "python",
   "name": "python3"
  },
  "language_info": {
   "codemirror_mode": {
    "name": "ipython",
    "version": 3
   },
   "file_extension": ".py",
   "mimetype": "text/x-python",
   "name": "python",
   "nbconvert_exporter": "python",
   "pygments_lexer": "ipython3",
   "version": "3.9.7"
  }
 },
 "nbformat": 4,
 "nbformat_minor": 5
}
