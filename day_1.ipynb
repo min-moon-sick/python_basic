{
 "cells": [
  {
   "cell_type": "markdown",
   "id": "36628d1e",
   "metadata": {},
   "source": [
    "# python\n",
    "### 기본 문법 1일차"
   ]
  },
  {
   "cell_type": "code",
   "execution_count": null,
   "id": "0e2bb456",
   "metadata": {},
   "outputs": [],
   "source": [
    "print('hello')"
   ]
  },
  {
   "cell_type": "code",
   "execution_count": 6,
   "id": "23ff6f37",
   "metadata": {},
   "outputs": [
    {
     "name": "stdout",
     "output_type": "stream",
     "text": [
      "hello\n"
     ]
    },
    {
     "data": {
      "text/plain": [
       "30"
      ]
     },
     "execution_count": 6,
     "metadata": {},
     "output_type": "execute_result"
    }
   ],
   "source": [
    "10+20"
   ]
  },
  {
   "cell_type": "code",
   "execution_count": 10,
   "id": "23608bdd",
   "metadata": {},
   "outputs": [
    {
     "data": {
      "text/plain": [
       "'\\nkeyword.kwlist 주석2\\n'"
      ]
     },
     "execution_count": 10,
     "metadata": {},
     "output_type": "execute_result"
    }
   ],
   "source": [
    "import keyword\n",
    "# keyword.kwlist주석1\n",
    "\n",
    "'''\n",
    "keyword.kwlist 주석2\n",
    "'''\n"
   ]
  },
  {
   "cell_type": "code",
   "execution_count": 11,
   "id": "770d830a",
   "metadata": {},
   "outputs": [
    {
     "data": {
      "text/plain": [
       "'hellotest'"
      ]
     },
     "execution_count": 11,
     "metadata": {},
     "output_type": "execute_result"
    }
   ],
   "source": [
    "\"hello\" + \"test\""
   ]
  },
  {
   "cell_type": "code",
   "execution_count": 12,
   "id": "03a49267",
   "metadata": {},
   "outputs": [
    {
     "name": "stdout",
     "output_type": "stream",
     "text": [
      "\n"
     ]
    }
   ],
   "source": [
    "print()"
   ]
  },
  {
   "cell_type": "code",
   "execution_count": 13,
   "id": "da632df6",
   "metadata": {},
   "outputs": [
    {
     "name": "stdout",
     "output_type": "stream",
     "text": [
      "hello python\n",
      "연산식 : 30\n"
     ]
    }
   ],
   "source": [
    "print('hello python')\n",
    "print(\"연산식 :\", 10+20)"
   ]
  },
  {
   "cell_type": "code",
   "execution_count": 3,
   "id": "af70f601",
   "metadata": {},
   "outputs": [
    {
     "name": "stdout",
     "output_type": "stream",
     "text": [
      "<class 'int'>\n",
      "<class 'str'>\n",
      "<class 'list'>\n",
      "<class 'set'>\n"
     ]
    }
   ],
   "source": [
    "print(type(1))\n",
    "print(type(\"1\"))\n",
    "print(type([1]))\n",
    "print(type({1}))"
   ]
  },
  {
   "cell_type": "code",
   "execution_count": 7,
   "id": "8eddcec2",
   "metadata": {},
   "outputs": [
    {
     "name": "stdout",
     "output_type": "stream",
     "text": [
      "\"안녕하세요\"\n"
     ]
    }
   ],
   "source": [
    "print(\"\\\"안녕하세요\\\"\")"
   ]
  },
  {
   "cell_type": "code",
   "execution_count": 12,
   "id": "8b980f4c",
   "metadata": {},
   "outputs": [
    {
     "name": "stdout",
     "output_type": "stream",
     "text": [
      "가나다\t라마바\t사아자\n",
      "dddddddddddddddddddddddddd\n",
      "dddddddddddddddddddd\n"
     ]
    }
   ],
   "source": [
    "print(\"가나다\\t라마바\\t사아자\")\n",
    "print(\"\"\"dddddddddddddddddddddddddd\n",
    "dddddddddddddddddddd\"\"\")"
   ]
  },
  {
   "cell_type": "code",
   "execution_count": 13,
   "id": "e7161509",
   "metadata": {},
   "outputs": [
    {
     "name": "stdout",
     "output_type": "stream",
     "text": [
      "test * 3\n",
      "testhey\n"
     ]
    }
   ],
   "source": [
    "print(\"test * 3\")\n",
    "print(\"test\" + \"hey\")"
   ]
  },
  {
   "cell_type": "code",
   "execution_count": 15,
   "id": "bb587f63",
   "metadata": {},
   "outputs": [
    {
     "name": "stdout",
     "output_type": "stream",
     "text": [
      "1\n",
      "5\n",
      "23\n",
      "45\n",
      "5\n"
     ]
    }
   ],
   "source": [
    "print(\"12345\"[0])   #1\n",
    "print(\"12345\"[-1])  # 5\n",
    "print(\"12345\"[1:3]) #23\n",
    "print(\"12345\"[3:])  #45\n",
    "print(len(\"12345\"))  #45"
   ]
  },
  {
   "cell_type": "code",
   "execution_count": 17,
   "id": "d33a12a4",
   "metadata": {},
   "outputs": [
    {
     "name": "stdout",
     "output_type": "stream",
     "text": [
      "3.14\n",
      "6.140000000000001\n",
      "<class 'float'>\n",
      "2.14\n",
      "5.140000000000001\n",
      "<class 'float'>\n"
     ]
    }
   ],
   "source": [
    "pi = 3.14\n",
    "print(pi)\n",
    "print(3 + pi)\n",
    "print(type(pi))\n",
    "\n",
    "pi = 2.14\n",
    "print(pi)\n",
    "print(3 + pi)\n",
    "print(type(pi))"
   ]
  },
  {
   "cell_type": "code",
   "execution_count": 25,
   "id": "02df3290",
   "metadata": {},
   "outputs": [
    {
     "name": "stdout",
     "output_type": "stream",
     "text": [
      "1\n",
      "2\n"
     ]
    }
   ],
   "source": [
    "a ,b = int(input()), int(input())"
   ]
  },
  {
   "cell_type": "code",
   "execution_count": 27,
   "id": "52d36577",
   "metadata": {},
   "outputs": [
    {
     "name": "stdout",
     "output_type": "stream",
     "text": [
      "3 -1\n"
     ]
    }
   ],
   "source": [
    "print(a+b, a-b)"
   ]
  },
  {
   "cell_type": "code",
   "execution_count": 33,
   "id": "335163ad",
   "metadata": {
    "scrolled": true
   },
   "outputs": [
    {
     "name": "stdout",
     "output_type": "stream",
     "text": [
      "12\n"
     ]
    },
    {
     "ename": "TypeError",
     "evalue": "format() argument 2 must be str, not list",
     "output_type": "error",
     "traceback": [
      "\u001b[1;31m---------------------------------------------------------------------------\u001b[0m",
      "\u001b[1;31mTypeError\u001b[0m                                 Traceback (most recent call last)",
      "\u001b[1;32m~\\AppData\\Local\\Temp/ipykernel_19476/3575796024.py\u001b[0m in \u001b[0;36m<module>\u001b[1;34m\u001b[0m\n\u001b[1;32m----> 1\u001b[1;33m \u001b[0ma\u001b[0m\u001b[1;33m,\u001b[0m \u001b[0mb\u001b[0m \u001b[1;33m=\u001b[0m \u001b[0mformat\u001b[0m\u001b[1;33m(\u001b[0m\u001b[0mint\u001b[0m\u001b[1;33m,\u001b[0m \u001b[0minput\u001b[0m\u001b[1;33m(\u001b[0m\u001b[1;33m)\u001b[0m\u001b[1;33m.\u001b[0m\u001b[0msplit\u001b[0m\u001b[1;33m(\u001b[0m\u001b[1;33m)\u001b[0m\u001b[1;33m)\u001b[0m\u001b[1;33m\u001b[0m\u001b[1;33m\u001b[0m\u001b[0m\n\u001b[0m",
      "\u001b[1;31mTypeError\u001b[0m: format() argument 2 must be str, not list"
     ]
    }
   ],
   "source": []
  },
  {
   "cell_type": "code",
   "execution_count": null,
   "id": "ab413040",
   "metadata": {},
   "outputs": [],
   "source": []
  }
 ],
 "metadata": {
  "kernelspec": {
   "display_name": "Python 3 (ipykernel)",
   "language": "python",
   "name": "python3"
  },
  "language_info": {
   "codemirror_mode": {
    "name": "ipython",
    "version": 3
   },
   "file_extension": ".py",
   "mimetype": "text/x-python",
   "name": "python",
   "nbconvert_exporter": "python",
   "pygments_lexer": "ipython3",
   "version": "3.9.7"
  }
 },
 "nbformat": 4,
 "nbformat_minor": 5
}
