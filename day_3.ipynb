{
 "cells": [
  {
   "cell_type": "code",
   "execution_count": 6,
   "id": "8eb6bf57",
   "metadata": {},
   "outputs": [
    {
     "name": "stdout",
     "output_type": "stream",
     "text": [
      "[0, 1, 2, 3, 4]\n",
      "0 = 반복횟수\n",
      "1 = 반복횟수\n",
      "2 = 반복횟수\n",
      "3 = 반복횟수\n",
      "4 = 반복횟수\n",
      "\n",
      "\n",
      "0 = 반복횟수\n",
      "2 = 반복횟수\n",
      "4 = 반복횟수\n"
     ]
    }
   ],
   "source": [
    "# range 연습하기\n",
    "\n",
    "print(list(range(5)))\n",
    "\n",
    "for i in range(5):\n",
    "    print(str(i) + ' = 반복횟수')\n",
    "    \n",
    "print('\\n')\n",
    "for i in range(0,5,2):\n",
    "    print(str(i) + ' = 반복횟수')"
   ]
  },
  {
   "cell_type": "code",
   "execution_count": 11,
   "id": "bc897e86",
   "metadata": {},
   "outputs": [
    {
     "name": "stdout",
     "output_type": "stream",
     "text": [
      "[1, 3, 5, 7, 9]\n",
      "9\n",
      "7\n",
      "5\n",
      "3\n",
      "1\n",
      "\n",
      "\n",
      "0 1\n",
      "1 3\n",
      "2 5\n",
      "3 7\n",
      "4 9\n"
     ]
    }
   ],
   "source": [
    "# list 와 for 사용하기\n",
    "\n",
    "list_a = [i for i in range(1,10,2)]\n",
    "\n",
    "print(list_a)\n",
    "\n",
    "for i in reversed(list_a):\n",
    "    print(i)\n",
    "\n",
    "print('\\n')\n",
    "\n",
    "for idx, value in enumerate(list_a):\n",
    "    print(idx, value)"
   ]
  },
  {
   "cell_type": "code",
   "execution_count": 17,
   "id": "d24b4c77",
   "metadata": {},
   "outputs": [
    {
     "name": "stdout",
     "output_type": "stream",
     "text": [
      "0\n",
      "1\n",
      "2\n",
      "3\n",
      "4\n",
      "5\n",
      "6\n",
      "7\n",
      "8\n",
      "9\n",
      "\n",
      "\n",
      "[1, 1]\n"
     ]
    }
   ],
   "source": [
    "# while 사용하기\n",
    "\n",
    "# while 1:\n",
    "#     print(\".\", end=\"\")\n",
    "\n",
    "i = 0 \n",
    "while i < 10:\n",
    "    print(i)\n",
    "    i += 1\n",
    "    \n",
    "print('\\n')\n",
    "\n",
    "list_b = [1, 2, 1, 2]\n",
    "value = 2 \n",
    "\n",
    "while value in list_b:\n",
    "    list_b.remove(value)\n",
    "    \n",
    "print(list_b)"
   ]
  },
  {
   "cell_type": "code",
   "execution_count": 8,
   "id": "4cbbc8b5",
   "metadata": {},
   "outputs": [
    {
     "name": "stdout",
     "output_type": "stream",
     "text": [
      "이름, 점수 : q\n",
      "\n",
      "\n",
      "이름 : q\n",
      "자료 없음\n"
     ]
    }
   ],
   "source": [
    "# 이름과 점수를 입력받아 딕셔너리 저장\n",
    "# 이름에 'q'가 입력되면 입력 종료\n",
    "# 검색할 이름을 입력받아 해당이름이 있으면 이름과 점수 출력\n",
    "# 검색할 이름이 없으면 '자료 없음'으로 출력\n",
    "\n",
    "dict_data = {}\n",
    "while 1:\n",
    "    data = input(\"이름, 점수 : \").split()\n",
    "    \n",
    "    if 'q' in data[0]:\n",
    "        break\n",
    "    else:    \n",
    "        dict_data[data[0]] = data[1]\n",
    "\n",
    "print('\\n')\n",
    "while 1:\n",
    "    name = input(\"이름 : \")\n",
    "    \n",
    "    if name in dict_data.keys():\n",
    "        print(name, dict_data[name])\n",
    "    else:\n",
    "        print('자료 없음')\n",
    "        break"
   ]
  },
  {
   "cell_type": "code",
   "execution_count": 26,
   "id": "aef7120c",
   "metadata": {},
   "outputs": [
    {
     "name": "stdout",
     "output_type": "stream",
     "text": [
      "계산식 입력 : q\n"
     ]
    }
   ],
   "source": [
    "# 계산식을 입력받아 계산 결과를 출력하는 프로그램 작성\n",
    "# 계산식 예시 10 + 20 -> 10 + 20 = 30\n",
    "# 처음 문자에 q가 입력되면 프로그램 종료\n",
    "# 단, +, - , *, /, %, // 가능하도록\n",
    "\n",
    "while 1:\n",
    "    data = input(\"계산식 입력 : \").split()\n",
    "    if data[0] == 'q':\n",
    "        break\n",
    "    if data[1] == '+':\n",
    "        print(\"{} + {} = {}\".format(data[0], data[2], int(data[0]) + int(data[2])))\n",
    "    elif data[1] == '-':\n",
    "        print(\"{} - {} = {}\".format(data[0], data[2], int(data[0]) - int(data[2])))\n",
    "    elif data[1] == '*':\n",
    "        print(\"{} * {} = {}\".format(data[0], data[2], int(data[0]) * int(data[2])))\n",
    "    elif data[1] == '/':\n",
    "        print(\"{} / {} = {}\".format(data[0], data[2], int(data[0]) / int(data[2])))\n",
    "    elif data[1] == '%':\n",
    "        print(\"{} % {} = {}\".format(data[0], data[2], int(data[0]) % int(data[2])))    \n",
    "    else:\n",
    "        print(\"{} // {} = {}\".format(data[0], data[2], int(data[0]) // int(data[2])))\n",
    "    data = []\n",
    "        "
   ]
  },
  {
   "cell_type": "code",
   "execution_count": 3,
   "id": "b7216669",
   "metadata": {},
   "outputs": [
    {
     "name": "stdout",
     "output_type": "stream",
     "text": [
      "5초 동안 37229878번 실행\n"
     ]
    }
   ],
   "source": [
    "import time\n",
    "\n",
    "num = 0\n",
    "t = time.time() + 5 # 5 sec\n",
    "\n",
    "while time.time() < t:\n",
    "    num += 1\n",
    "print(\"5초 동안 {}번 실행\".format(num))"
   ]
  },
  {
   "cell_type": "code",
   "execution_count": 5,
   "id": "2eca3999",
   "metadata": {},
   "outputs": [
    {
     "name": "stdout",
     "output_type": "stream",
     "text": [
      "[5, 4, 3, 2, 1]\n",
      "[5, 4, 3, 2, 1]\n"
     ]
    }
   ],
   "source": [
    "# reversed() 함수\n",
    "list_a = list(range(1,6))\n",
    "reverse_a = reversed(list_a)\n",
    "\n",
    "print([i for i in reverse_a])\n",
    "\n",
    "print(list_a[::-1])"
   ]
  },
  {
   "cell_type": "markdown",
   "id": "ec7bd5e2",
   "metadata": {},
   "source": [
    "list의 idx 와 value 동시 반환 : enumerate\n",
    "\n",
    "dict의 key 와 value 동시 반환 : dict.items()"
   ]
  },
  {
   "cell_type": "code",
   "execution_count": 7,
   "id": "3d8d9daa",
   "metadata": {},
   "outputs": [
    {
     "name": "stdout",
     "output_type": "stream",
     "text": [
      "홀수 합 :  2500\n",
      "짝수 합 :  2550\n"
     ]
    }
   ],
   "source": [
    "# 1 to 100 홀수 짝수 합 구하기\n",
    "\n",
    "odd_num = [i for i in range(101) if i % 2]\n",
    "even_num = [i for i in range(101) if not i % 2]\n",
    "print(\"홀수 합 : \", sum(odd_num))\n",
    "print(\"짝수 합 : \", sum(even_num))\n",
    "\n"
   ]
  },
  {
   "cell_type": "code",
   "execution_count": null,
   "id": "d742f419",
   "metadata": {},
   "outputs": [],
   "source": []
  }
 ],
 "metadata": {
  "kernelspec": {
   "display_name": "Python 3 (ipykernel)",
   "language": "python",
   "name": "python3"
  },
  "language_info": {
   "codemirror_mode": {
    "name": "ipython",
    "version": 3
   },
   "file_extension": ".py",
   "mimetype": "text/x-python",
   "name": "python",
   "nbconvert_exporter": "python",
   "pygments_lexer": "ipython3",
   "version": "3.9.7"
  }
 },
 "nbformat": 4,
 "nbformat_minor": 5
}
