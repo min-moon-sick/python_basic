{
 "cells": [
  {
   "cell_type": "code",
   "execution_count": 6,
   "id": "8eb6bf57",
   "metadata": {},
   "outputs": [
    {
     "name": "stdout",
     "output_type": "stream",
     "text": [
      "[0, 1, 2, 3, 4]\n",
      "0 = 반복횟수\n",
      "1 = 반복횟수\n",
      "2 = 반복횟수\n",
      "3 = 반복횟수\n",
      "4 = 반복횟수\n",
      "\n",
      "\n",
      "0 = 반복횟수\n",
      "2 = 반복횟수\n",
      "4 = 반복횟수\n"
     ]
    }
   ],
   "source": [
    "# range 연습하기\n",
    "\n",
    "print(list(range(5)))\n",
    "\n",
    "for i in range(5):\n",
    "    print(str(i) + ' = 반복횟수')\n",
    "    \n",
    "print('\\n')\n",
    "for i in range(0,5,2):\n",
    "    print(str(i) + ' = 반복횟수')"
   ]
  },
  {
   "cell_type": "code",
   "execution_count": 11,
   "id": "bc897e86",
   "metadata": {},
   "outputs": [
    {
     "name": "stdout",
     "output_type": "stream",
     "text": [
      "[1, 3, 5, 7, 9]\n",
      "9\n",
      "7\n",
      "5\n",
      "3\n",
      "1\n",
      "\n",
      "\n",
      "0 1\n",
      "1 3\n",
      "2 5\n",
      "3 7\n",
      "4 9\n"
     ]
    }
   ],
   "source": [
    "# list 와 for 사용하기\n",
    "\n",
    "list_a = [i for i in range(1,10,2)]\n",
    "\n",
    "print(list_a)\n",
    "\n",
    "for i in reversed(list_a):\n",
    "    print(i)\n",
    "\n",
    "print('\\n')\n",
    "\n",
    "for idx, value in enumerate(list_a):\n",
    "    print(idx, value)"
   ]
  },
  {
   "cell_type": "code",
   "execution_count": 17,
   "id": "d24b4c77",
   "metadata": {},
   "outputs": [
    {
     "name": "stdout",
     "output_type": "stream",
     "text": [
      "0\n",
      "1\n",
      "2\n",
      "3\n",
      "4\n",
      "5\n",
      "6\n",
      "7\n",
      "8\n",
      "9\n",
      "\n",
      "\n",
      "[1, 1]\n"
     ]
    }
   ],
   "source": [
    "# while 사용하기\n",
    "\n",
    "# while 1:\n",
    "#     print(\".\", end=\"\")\n",
    "\n",
    "i = 0 \n",
    "while i < 10:\n",
    "    print(i)\n",
    "    i += 1\n",
    "    \n",
    "print('\\n')\n",
    "\n",
    "list_b = [1, 2, 1, 2]\n",
    "value = 2 \n",
    "\n",
    "while value in list_b:\n",
    "    list_b.remove(value)\n",
    "    \n",
    "print(list_b)"
   ]
  },
  {
   "cell_type": "code",
   "execution_count": 8,
   "id": "4cbbc8b5",
   "metadata": {},
   "outputs": [
    {
     "name": "stdout",
     "output_type": "stream",
     "text": [
      "이름, 점수 : q\n",
      "\n",
      "\n",
      "이름 : q\n",
      "자료 없음\n"
     ]
    }
   ],
   "source": [
    "# 이름과 점수를 입력받아 딕셔너리 저장\n",
    "# 이름에 'q'가 입력되면 입력 종료\n",
    "# 검색할 이름을 입력받아 해당이름이 있으면 이름과 점수 출력\n",
    "# 검색할 이름이 없으면 '자료 없음'으로 출력\n",
    "\n",
    "dict_data = {}\n",
    "while 1:\n",
    "    data = input(\"이름, 점수 : \").split()\n",
    "    \n",
    "    if 'q' in data[0]:\n",
    "        break\n",
    "    else:    \n",
    "        dict_data[data[0]] = data[1]\n",
    "\n",
    "print('\\n')\n",
    "while 1:\n",
    "    name = input(\"이름 : \")\n",
    "    \n",
    "    if name in dict_data.keys():\n",
    "        print(name, dict_data[name])\n",
    "    else:\n",
    "        print('자료 없음')\n",
    "        break"
   ]
  },
  {
   "cell_type": "code",
   "execution_count": 26,
   "id": "aef7120c",
   "metadata": {},
   "outputs": [
    {
     "name": "stdout",
     "output_type": "stream",
     "text": [
      "계산식 입력 : q\n"
     ]
    }
   ],
   "source": [
    "# 계산식을 입력받아 계산 결과를 출력하는 프로그램 작성\n",
    "# 계산식 예시 10 + 20 -> 10 + 20 = 30\n",
    "# 처음 문자에 q가 입력되면 프로그램 종료\n",
    "# 단, +, - , *, /, %, // 가능하도록\n",
    "\n",
    "while 1:\n",
    "    data = input(\"계산식 입력 : \").split()\n",
    "    if data[0] == 'q':\n",
    "        break\n",
    "    if data[1] == '+':\n",
    "        print(\"{} + {} = {}\".format(data[0], data[2], int(data[0]) + int(data[2])))\n",
    "    elif data[1] == '-':\n",
    "        print(\"{} - {} = {}\".format(data[0], data[2], int(data[0]) - int(data[2])))\n",
    "    elif data[1] == '*':\n",
    "        print(\"{} * {} = {}\".format(data[0], data[2], int(data[0]) * int(data[2])))\n",
    "    elif data[1] == '/':\n",
    "        print(\"{} / {} = {}\".format(data[0], data[2], int(data[0]) / int(data[2])))\n",
    "    elif data[1] == '%':\n",
    "        print(\"{} % {} = {}\".format(data[0], data[2], int(data[0]) % int(data[2])))    \n",
    "    else:\n",
    "        print(\"{} // {} = {}\".format(data[0], data[2], int(data[0]) // int(data[2])))\n",
    "    data = []\n",
    "        "
   ]
  },
  {
   "cell_type": "code",
   "execution_count": 3,
   "id": "b7216669",
   "metadata": {},
   "outputs": [
    {
     "name": "stdout",
     "output_type": "stream",
     "text": [
      "5초 동안 37229878번 실행\n"
     ]
    }
   ],
   "source": [
    "import time\n",
    "\n",
    "num = 0\n",
    "t = time.time() + 5 # 5 sec\n",
    "\n",
    "while time.time() < t:\n",
    "    num += 1\n",
    "print(\"5초 동안 {}번 실행\".format(num))"
   ]
  },
  {
   "cell_type": "code",
   "execution_count": 5,
   "id": "2eca3999",
   "metadata": {},
   "outputs": [
    {
     "name": "stdout",
     "output_type": "stream",
     "text": [
      "[5, 4, 3, 2, 1]\n",
      "[5, 4, 3, 2, 1]\n"
     ]
    }
   ],
   "source": [
    "# reversed() 함수\n",
    "list_a = list(range(1,6))\n",
    "reverse_a = reversed(list_a)\n",
    "\n",
    "print([i for i in reverse_a])\n",
    "\n",
    "print(list_a[::-1])"
   ]
  },
  {
   "cell_type": "markdown",
   "id": "ec7bd5e2",
   "metadata": {},
   "source": [
    "list의 idx 와 value 동시 반환 : enumerate\n",
    "\n",
    "dict의 key 와 value 동시 반환 : dict.items()"
   ]
  },
  {
   "cell_type": "code",
   "execution_count": 7,
   "id": "3d8d9daa",
   "metadata": {},
   "outputs": [
    {
     "name": "stdout",
     "output_type": "stream",
     "text": [
      "홀수 합 :  2500\n",
      "짝수 합 :  2550\n"
     ]
    }
   ],
   "source": [
    "# 1 to 100 홀수 짝수 합 구하기\n",
    "\n",
    "odd_num = [i for i in range(101) if i % 2]\n",
    "even_num = [i for i in range(101) if not i % 2]\n",
    "print(\"홀수 합 : \", sum(odd_num))\n",
    "print(\"짝수 합 : \", sum(even_num))\n",
    "\n"
   ]
  },
  {
   "cell_type": "code",
   "execution_count": 9,
   "id": "d742f419",
   "metadata": {},
   "outputs": [
    {
     "name": "stdout",
     "output_type": "stream",
     "text": [
      "이 데이터 타입이 튜플인데 데이터 변경이 불가능\n"
     ]
    }
   ],
   "source": [
    "string = (\n",
    "\"이 데이터 타입이\"\n",
    "\" 튜플인데 데이터 변경이 불가능\")\n",
    "\n",
    "print(string)"
   ]
  },
  {
   "cell_type": "code",
   "execution_count": 14,
   "id": "8fdecc38",
   "metadata": {},
   "outputs": [
    {
     "name": "stdout",
     "output_type": "stream",
     "text": [
      "1-2-3-4-5\n",
      "['1', '2', '3', '4', '5']\n"
     ]
    }
   ],
   "source": [
    "# 문자열 연결 함수 : 문자열.join(리스트)\n",
    "\n",
    "list_a = [str(i) for i in range(1,6)]\n",
    "list_join = \"-\".join(list_a)\n",
    "print(list_join)\n",
    "\n",
    "print(list_join.split(sep='-'))\n"
   ]
  },
  {
   "cell_type": "code",
   "execution_count": 15,
   "id": "de521b78",
   "metadata": {},
   "outputs": [
    {
     "name": "stdout",
     "output_type": "stream",
     "text": [
      "reversed_number : <list_reverseiterator object at 0x0000024A28B99EE0>\n",
      "5\n",
      "4\n",
      "3\n"
     ]
    }
   ],
   "source": [
    "# 이터레이터 함수\n",
    "num = list(range(1, 6))\n",
    "r_num = reversed(num)\n",
    "\n",
    "print(\"reversed_number :\", r_num)\n",
    "print(next(r_num))\n",
    "print(next(r_num))\n",
    "print(next(r_num))\n"
   ]
  },
  {
   "cell_type": "code",
   "execution_count": 19,
   "id": "e08e65f4",
   "metadata": {},
   "outputs": [
    {
     "name": "stdout",
     "output_type": "stream",
     "text": [
      "이름 전화번호 입력(예시 : 홍길동 123 456 7890) > a 123 123 1234\n",
      "이름 전화번호 입력(예시 : 홍길동 123 456 7890) > q\n",
      "검색할 이름 >  a\n",
      "123-123-1234\n",
      "검색할 이름 >  b\n",
      "자료 없음\n"
     ]
    }
   ],
   "source": [
    "# 전화번호부 작성\n",
    "# 이름, 전화번호 입력 : 홍길동 123 456 7890\n",
    "# 저장은 딕셔너리 이름, 전화번호로 저장 -> 전화번호는 123-456-7890\n",
    "# 이름에 'q' 가 입력되면 종료\n",
    "# 검색할 이름 입력하면 -> 전화번호 검색 or 자료 없음\n",
    "\n",
    "dict_data = {}\n",
    "\n",
    "while 1:\n",
    "    data = input(\"이름 전화번호 입력(예시 : 홍길동 123 456 7890) > \").split()\n",
    "\n",
    "    if data[0] == 'q':\n",
    "        break\n",
    "    else:\n",
    "        dict_data[data[0]] = \"-\".join(data[1:])\n",
    "\n",
    "while 1:\n",
    "    name = input(\"검색할 이름 >  \")\n",
    "    \n",
    "    if name in dict_data.keys():\n",
    "        print(dict_data[name])\n",
    "    else:\n",
    "        print('자료 없음')\n",
    "        break\n",
    "        "
   ]
  },
  {
   "cell_type": "code",
   "execution_count": 23,
   "id": "1b134ade",
   "metadata": {},
   "outputs": [
    {
     "name": "stdout",
     "output_type": "stream",
     "text": [
      "a\n",
      "a\n",
      "<class 'tuple'>\n",
      "hey\n",
      "hello\n",
      "\n",
      "hey\n",
      "hello\n",
      "\n",
      "hey\n",
      "hello\n",
      "\n",
      "2 4\n"
     ]
    }
   ],
   "source": [
    "# 함수 정의 \n",
    "\n",
    "def print_2_times():\n",
    "    print(\"a\")\n",
    "    print(\"a\")\n",
    "    \n",
    "print_2_times()\n",
    "\n",
    "# 가변 매개변수\n",
    "def prt_n_times(n, *values):\n",
    "    print(type(values))\n",
    "    for i in range(n):\n",
    "        for value in values:\n",
    "            print(value)\n",
    "        print()\n",
    "    \n",
    "prt_n_times(3,'hey','hello')\n",
    "\n",
    "# 키워드 매개변수\n",
    "def key_def(n=3, a =4):\n",
    "    print(n, a)\n",
    "    \n",
    "key_def(n=2)"
   ]
  },
  {
   "cell_type": "code",
   "execution_count": 31,
   "id": "b5285bda",
   "metadata": {},
   "outputs": [
    {
     "name": "stdout",
     "output_type": "stream",
     "text": [
      "연산식 입력 > 5 / 2\n",
      "2.5\n"
     ]
    }
   ],
   "source": [
    "# 계산 프로그램 작성(2)\n",
    "# +, -, *, /가 입력되면 작성. 함수로 add, sub, mul, div 함수로 구현\n",
    "\n",
    "def calcultation(val_1 = 0, val_2 = 0, type_ = '+'):\n",
    "    if type_ == '+': \n",
    "        return int(val_1) + int(val_2)\n",
    "    elif type_ == '-':\n",
    "        return (int(val_1) - int(val_2))\n",
    "    elif type_ == '*':\n",
    "        return (int(val_1) * int(val_2))\n",
    "    else:\n",
    "        return (int(val_1) / int(val_2))\n",
    "    \n",
    "data = input(\"연산식 입력 > \").split()\n",
    "\n",
    "print(calcultation(val_1 = data[0], val_2 = data[2], type_ = data[1]))"
   ]
  },
  {
   "cell_type": "code",
   "execution_count": 40,
   "id": "f90f5eea",
   "metadata": {},
   "outputs": [
    {
     "name": "stdout",
     "output_type": "stream",
     "text": [
      "연산식 입력 > q\n"
     ]
    }
   ],
   "source": [
    "# 계산 프로그램 작성(3)\n",
    "# +, -, *, /가 입력되면 작성. 함수로 add, sub, mul, div 함수로 구현\n",
    "\n",
    "def add(val1 , val2):\n",
    "    return val1 + val2\n",
    "\n",
    "def sub(val1 , val2):\n",
    "    return val1 - val2\n",
    "\n",
    "def mul(val1 , val2):\n",
    "    return val1 * val2\n",
    "\n",
    "def div(val1 , val2):\n",
    "    if val2:\n",
    "        return  val1 / val2 \n",
    "    else:\n",
    "        return 'ERROR'\n",
    "    \n",
    "dict_type = {\n",
    "    '+' : add,\n",
    "    '-' : sub,\n",
    "    '*' : mul,\n",
    "    '/' : div    \n",
    "}\n",
    "\n",
    "while 1:\n",
    "    data = input(\"연산식 입력 > \").split()\n",
    "    \n",
    "    if data[0] =='q':\n",
    "        print(\"종료\")\n",
    "        break\n",
    "        \n",
    "    print(dict_type[data[1]](int(data[0]), int(data[2])))"
   ]
  },
  {
   "cell_type": "code",
   "execution_count": 69,
   "id": "4beb6615",
   "metadata": {},
   "outputs": [
    {
     "name": "stdout",
     "output_type": "stream",
     "text": [
      "이름 국어 영어 수학 점수 : a 1 2 3\n",
      "이름 국어 영어 수학 점수 : b 2 3 4\n",
      "이름 국어 영어 수학 점수 : c 3 4 5\n",
      "이름 국어 영어 수학 점수 : q\n",
      "{'a': [1, 2, 3], 'b': [2, 3, 4], 'c': [3, 4, 5]}\n",
      "\n",
      "최고 점수 학생 : c, 최고 점수 : 12\n",
      "최소 점수 학생 : a, 최소 점수 : 6\n",
      "전체 평균 :  9.0\n",
      "인원수 :  3\n"
     ]
    }
   ],
   "source": [
    "# 1.이름 국어 영어 수학 점수를 입력받아 dict에 저장하는 함수\n",
    "# 이름에 'q' 가 입력되면 종료\n",
    "# 2. 각 사람의 합계와 평균을 구해서 dict에 추가하는 함수\n",
    "# 3. 전체 학생의 합계가 최고 최저 점수를 가진 학생의 이름과 점수\n",
    "# 4. 전체 학생의 평균(소수점 미만 2자리), 인원수 출력\n",
    "import statistics as stat\n",
    "dict_score = {}\n",
    "sum_score = {}\n",
    "avg_score = {}\n",
    "\n",
    "def avg_sum(student):\n",
    "    return sum(student), sum(student) / len(student)\n",
    "   \n",
    "    \n",
    "while 1:\n",
    "    score = input(\"이름 국어 영어 수학 점수 : \").split()\n",
    "    \n",
    "    if score[0] == 'q':\n",
    "        break\n",
    "    dict_score[score[0]] = [int(i) for i in score[1:]]    \n",
    "    sum_score[score[0]], avg_score[score[0]] = avg_sum(dict_score[score[0]])\n",
    "    \n",
    "print(dict_score)\n",
    "print()\n",
    "\n",
    "print(\"최고 점수 학생 : {}, 최고 점수 : {}\".format(max(sum_score),max(sum_score.values())))\n",
    "print(\"최소 점수 학생 : {}, 최소 점수 : {}\".format(min(sum_score),min(sum_score.values())))\n",
    "print(\"전체 평균 : \", sum(sum_score.values()) / len(sum_score.values()))\n",
    "\n",
    "print(\"인원수 : \", len(sum_score.values()))\n",
    "\n",
    "\n"
   ]
  },
  {
   "cell_type": "code",
   "execution_count": 70,
   "id": "69ca02f8",
   "metadata": {},
   "outputs": [
    {
     "name": "stdout",
     "output_type": "stream",
     "text": [
      "{'name': '기사', 'hp': 200, 'mp': 30, 'level': 5}\n"
     ]
    }
   ],
   "source": [
    "# 188p\n",
    "# 2번 문제\n",
    "\n",
    "key_list = [\"name\", \"hp\", \"mp\", \"level\"]\n",
    "value_list = [\"기사\", 200, 30 , 5]\n",
    "character = {}\n",
    "\n",
    "for i in range(len(key_list)):\n",
    "    character[key_list[i]] = value_list[i]\n",
    "print(character)"
   ]
  },
  {
   "cell_type": "code",
   "execution_count": 74,
   "id": "e54bedcf",
   "metadata": {},
   "outputs": [
    {
     "name": "stdout",
     "output_type": "stream",
     "text": [
      "141를 더할 때 10000을 넘으며 그때의 값은 10011입니다.\n",
      "141\n",
      "10011\n"
     ]
    }
   ],
   "source": [
    "# 188p\n",
    "# 3번 문제\n",
    "\n",
    "limit = 10000\n",
    "i = 1\n",
    "sum_value = 0\n",
    "\n",
    "while sum_value < 10000:\n",
    "    i += 1\n",
    "    sum_value = sum(list(range(i)))\n",
    "\n",
    "print(\"{}를 더할 때 {}을 넘으며 그때의 값은 {}입니다.\".format(i-1, limit, sum_value))"
   ]
  },
  {
   "cell_type": "code",
   "execution_count": 75,
   "id": "53a4c74f",
   "metadata": {},
   "outputs": [
    {
     "name": "stdout",
     "output_type": "stream",
     "text": [
      "최대가 되는 경우: 50 * 50 = 2500\n"
     ]
    }
   ],
   "source": [
    "# 189p\n",
    "# 4번 문제\n",
    "\n",
    "max_value = 0\n",
    "a = 0\n",
    "b = 0\n",
    "\n",
    "for i in range(1,100):\n",
    "    j = 100 - i\n",
    "    \n",
    "    # 최대값 구하기\n",
    "    if max_value < i * j:\n",
    "        max_value = i*j\n",
    "        a = i\n",
    "        b = j\n",
    "    \n",
    "print(\"최대가 되는 경우: {} * {} = {}\".format(a, b, max_value))"
   ]
  },
  {
   "cell_type": "code",
   "execution_count": null,
   "id": "bf2ce049",
   "metadata": {},
   "outputs": [],
   "source": []
  }
 ],
 "metadata": {
  "kernelspec": {
   "display_name": "Python 3 (ipykernel)",
   "language": "python",
   "name": "python3"
  },
  "language_info": {
   "codemirror_mode": {
    "name": "ipython",
    "version": 3
   },
   "file_extension": ".py",
   "mimetype": "text/x-python",
   "name": "python",
   "nbconvert_exporter": "python",
   "pygments_lexer": "ipython3",
   "version": "3.9.7"
  }
 },
 "nbformat": 4,
 "nbformat_minor": 5
}
