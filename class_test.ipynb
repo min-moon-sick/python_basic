{
 "cells": [
  {
   "cell_type": "code",
   "execution_count": 1,
   "id": "efd9031d",
   "metadata": {},
   "outputs": [],
   "source": [
    "# class 생성 하기  class 클래스명 :  ~~~\n",
    "class Student:\n",
    "    def __init__(self, name, kor, eng, math):\n",
    "        self.name = name\n",
    "        self.kor = kor\n",
    "        self.eng = eng\n",
    "        self.math = math\n",
    "    def get_sum(self):\n",
    "        return self.kor + self.eng + self.math\n",
    "    def get_avg(self):\n",
    "        return self.get_sum()/3\n",
    "    def to_print(self):\n",
    "        return \"{}:{}\\t {}\\n\".format(self.name, self.get_sum(),self.get_avg())"
   ]
  },
  {
   "cell_type": "code",
   "execution_count": 4,
   "id": "09f83ef7",
   "metadata": {},
   "outputs": [
    {
     "name": "stdout",
     "output_type": "stream",
     "text": [
      "학생 이름 입력 >a\n",
      "국어 , 영어, 수학 점수 입력 > 909 88 88\n",
      "학생 이름 입력 >b\n",
      "국어 , 영어, 수학 점수 입력 > 88 77 99\n",
      "학생 이름 입력 >c\n",
      "국어 , 영어, 수학 점수 입력 > 88 77 77\n",
      "학생 이름 입력 >q\n"
     ]
    }
   ],
   "source": [
    "students = []\n",
    "while True:\n",
    "    name = input(\"학생 이름 입력 >\")\n",
    "    if name == 'q':\n",
    "        break\n",
    "    score = list(map(int, input(\"국어 , 영어, 수학 점수 입력 > \").split()))\n",
    "    kor = score[0]\n",
    "    eng = score[1]\n",
    "    math = score[2]\n",
    "    student = Student(name, kor, eng, math)\n",
    "    students.append(student)"
   ]
  },
  {
   "cell_type": "code",
   "execution_count": 5,
   "id": "bb95218a",
   "metadata": {},
   "outputs": [
    {
     "name": "stdout",
     "output_type": "stream",
     "text": [
      "a:1085\t 361.6666666666667\n",
      "\n",
      "b:264\t 88.0\n",
      "\n",
      "c:242\t 80.66666666666667\n",
      "\n"
     ]
    }
   ],
   "source": [
    "for idx, student in enumerate(students):\n",
    "    print(students[idx].name)\n",
    "    print(student.to_print())"
   ]
  },
  {
   "cell_type": "code",
   "execution_count": 33,
   "id": "3398d1cd",
   "metadata": {},
   "outputs": [],
   "source": [
    "class Test:\n",
    "    def __init__(self, a,b,c):\n",
    "        self.a = a\n",
    "        self.b = b\n",
    "        self.c = c\n",
    "        print(\"Test class 생성자 \")\n",
    "        \n",
    "    def class_print(self):\n",
    "        return self.a + self. b + self. c\n",
    "        \n",
    "    def class_return(self, a):\n",
    "        return a\n",
    "    \n",
    "    def __del__(self):\n",
    "        print(\"Test class 소멸자 \")"
   ]
  },
  {
   "cell_type": "code",
   "execution_count": 36,
   "id": "589f295a",
   "metadata": {},
   "outputs": [
    {
     "name": "stdout",
     "output_type": "stream",
     "text": [
      "Test class 생성자 \n",
      "Test class 소멸자 \n"
     ]
    }
   ],
   "source": [
    "a = Test(10,20,30)\n",
    "a.class_print()\n",
    "\n",
    "del a"
   ]
  },
  {
   "cell_type": "code",
   "execution_count": null,
   "id": "67b90fa5",
   "metadata": {},
   "outputs": [],
   "source": [
    "class Store:\n",
    "    def __init__(self, 이름, 전화번호, 주소):\n",
    "        self.이름 = 이름\n",
    "        self.전화번호 = 전화번호\n",
    "    def order(self)"
   ]
  },
  {
   "cell_type": "code",
   "execution_count": 37,
   "id": "bf05e606",
   "metadata": {},
   "outputs": [
    {
     "name": "stdout",
     "output_type": "stream",
     "text": [
      "isinstance(student) : True\n"
     ]
    }
   ],
   "source": [
    "print(\"isinstance(student) :\", isinstance(student, Student))"
   ]
  },
  {
   "cell_type": "code",
   "execution_count": 38,
   "id": "9f3a92d1",
   "metadata": {},
   "outputs": [],
   "source": [
    "class Student:\n",
    "    def study(self):\n",
    "        print(\"공부를 합니다\")\n",
    "class Teacher:\n",
    "    def teacher(self):\n",
    "        print(\"가르칩니다\")"
   ]
  },
  {
   "cell_type": "code",
   "execution_count": 39,
   "id": "c43d01ee",
   "metadata": {},
   "outputs": [
    {
     "name": "stdout",
     "output_type": "stream",
     "text": [
      "공부를 합니다\n",
      "가르칩니다\n",
      "공부를 합니다\n",
      "공부를 합니다\n",
      "가르칩니다\n"
     ]
    }
   ],
   "source": [
    "classroom = [Student(), Teacher(), Student(), Student(), Teacher()]\n",
    "\n",
    "for person in classroom:\n",
    "    if isinstance(person, Student):\n",
    "        person.study()\n",
    "    else:\n",
    "        person.teacher()"
   ]
  },
  {
   "cell_type": "code",
   "execution_count": 42,
   "id": "dcd54e76",
   "metadata": {},
   "outputs": [],
   "source": [
    "class Student:\n",
    "    def __init__(self, name, kor, eng, math):\n",
    "        self.name = name\n",
    "        self.kor = kor\n",
    "        self.eng = eng\n",
    "        self.math = math\n",
    "    def get_sum(self):\n",
    "        return self.kor + self.eng + self.math\n",
    "    def get_avg(self):\n",
    "        return self.get_sum() / 3\n",
    "    def __str__(self):\n",
    "        return \"{}\\t{}\\t{}\".format(self.name, self.get_sum(), self.get_avg())\n",
    "    def __eq__(self, value):\n",
    "        return self.get_sum() == value.get_sum()\n",
    "    def __ne__(self, value):\n",
    "        return self.get_sum() != value.get_sum()\n",
    "    def __gt__(self, value):\n",
    "        return self.get_sum() > value.get_sum()    "
   ]
  },
  {
   "cell_type": "code",
   "execution_count": 48,
   "id": "4be50014",
   "metadata": {},
   "outputs": [
    {
     "name": "stdout",
     "output_type": "stream",
     "text": [
      "student_a == student_b =>  False\n",
      "student_a != student_b =>  True\n",
      "윤인성\t273\t91.0\n",
      "윤인성 273\n",
      "연하진\t286\t95.33333333333333\n",
      "연하진 286\n",
      "구지연\t266\t88.66666666666667\n",
      "나선주\t286\t95.33333333333333\n",
      "나선주 286\n",
      "윤아린\t291\t97.0\n",
      "윤명월\t244\t81.33333333333333\n"
     ]
    }
   ],
   "source": [
    "students = [\n",
    "    Student(\"윤인성\", 87, 98, 88),\n",
    "    Student(\"연하진\", 92, 98, 96),\n",
    "    Student(\"구지연\", 76, 96, 94),\n",
    "    Student(\"나선주\", 98, 92, 96),\n",
    "    Student(\"윤아린\", 95, 98, 98),\n",
    "    Student(\"윤명월\", 64, 88, 92)\n",
    "]\n",
    "student_a = Student(\"윤인성\", 87, 98, 88)\n",
    "student_b = Student(\"연하진\", 92, 98, 96)\n",
    "print(\"student_a == student_b => \", student_a == student_b)\n",
    "print(\"student_a != student_b => \", student_a != student_b)\n",
    "\n",
    "for student in students:\n",
    "    print(str(student))\n",
    "    if student == student_a or student == student_b :\n",
    "        print(student.name, student.get_sum())"
   ]
  },
  {
   "cell_type": "code",
   "execution_count": 66,
   "id": "4260016e",
   "metadata": {},
   "outputs": [],
   "source": [
    "# 클래스 변수\n",
    "class Student:\n",
    "    count = 0\n",
    "    students = []\n",
    "    def __init__(self, name, kor, eng, math):\n",
    "        self.name = name\n",
    "        self.kor = kor\n",
    "        self.eng = eng\n",
    "        self.math = math   \n",
    "        \n",
    "        Student.count += 1\n",
    "        Student.students.append(self)\n",
    "        \n",
    "    @classmethod\n",
    "    def print(cls):\n",
    "        print(\"--------학생 목록------------\")\n",
    "        print(\"이름\\t총점\\t평균\")\n",
    "        for student in cls.students:\n",
    "            print(str(student))\n",
    "        print(\"----------------------------\")\n",
    "\n",
    "    def get_sum(self):\n",
    "        return self.kor + self.eng + self.math\n",
    "    def get_avg(self):\n",
    "        return self.get_sum()/3\n",
    "    def __str__(self):\n",
    "        return \"{}\\t{}\\t{:0.3f}\".format(self.name, self.get_sum(), self.get_avg())            "
   ]
  },
  {
   "cell_type": "code",
   "execution_count": 16,
   "id": "744240d6",
   "metadata": {},
   "outputs": [
    {
     "ename": "AttributeError",
     "evalue": "type object 'Student' has no attribute 'print'",
     "output_type": "error",
     "traceback": [
      "\u001b[1;31m---------------------------------------------------------------------------\u001b[0m",
      "\u001b[1;31mAttributeError\u001b[0m                            Traceback (most recent call last)",
      "\u001b[1;32m~\\AppData\\Local\\Temp/ipykernel_7408/136585142.py\u001b[0m in \u001b[0;36m<module>\u001b[1;34m\u001b[0m\n\u001b[0;32m      6\u001b[0m \u001b[0mStudent\u001b[0m\u001b[1;33m(\u001b[0m\u001b[1;34m\"윤명월\"\u001b[0m\u001b[1;33m,\u001b[0m \u001b[1;36m64\u001b[0m\u001b[1;33m,\u001b[0m \u001b[1;36m88\u001b[0m\u001b[1;33m,\u001b[0m \u001b[1;36m92\u001b[0m\u001b[1;33m)\u001b[0m\u001b[1;33m\u001b[0m\u001b[1;33m\u001b[0m\u001b[0m\n\u001b[0;32m      7\u001b[0m \u001b[1;33m\u001b[0m\u001b[0m\n\u001b[1;32m----> 8\u001b[1;33m \u001b[0mStudent\u001b[0m\u001b[1;33m.\u001b[0m\u001b[0mprint\u001b[0m\u001b[1;33m(\u001b[0m\u001b[1;33m)\u001b[0m   \u001b[1;31m# 클래스의 매서드 또는 함수\u001b[0m\u001b[1;33m\u001b[0m\u001b[1;33m\u001b[0m\u001b[0m\n\u001b[0m\u001b[0;32m      9\u001b[0m \u001b[0mprint\u001b[0m\u001b[1;33m(\u001b[0m\u001b[1;34m\"전체 인원 수 : \"\u001b[0m\u001b[1;33m,\u001b[0m \u001b[0mStudent\u001b[0m\u001b[1;33m.\u001b[0m\u001b[0mcount\u001b[0m\u001b[1;33m)\u001b[0m \u001b[1;31m# Student 클래 전체의 global 변수\u001b[0m\u001b[1;33m\u001b[0m\u001b[1;33m\u001b[0m\u001b[0m\n",
      "\u001b[1;31mAttributeError\u001b[0m: type object 'Student' has no attribute 'print'"
     ]
    }
   ],
   "source": [
    "Student(\"윤인성\", 87, 98, 88)\n",
    "Student(\"연하진\", 92, 98, 96)\n",
    "Student(\"구지연\", 76, 96, 94)\n",
    "Student(\"나선주\", 98, 92, 96)\n",
    "Student(\"윤아린\", 95, 98, 98)\n",
    "Student(\"윤명월\", 64, 88, 92)\n",
    "\n",
    "Student.print()   # 클래스의 매서드 또는 함수\n",
    "print(\"전체 인원 수 : \", Student.count) # Student 클래 전체의 global 변수"
   ]
  },
  {
   "cell_type": "code",
   "execution_count": 17,
   "id": "b687b4a8",
   "metadata": {},
   "outputs": [],
   "source": [
    "# 학생 자료를 입력 받아 클래스 리스트에 저장한 후 \n",
    "# 학생들의 각 과목별 점수와 총점 평균을 출력하고\n",
    "# 전체 학생의 인원수와 전체 학생의 총점과 평균을 구하세요\n",
    "class Student:\n",
    "    count = 0\n",
    "    students = []\n",
    "    def __init__(self, name, kor, eng, math):\n",
    "        self.name = name\n",
    "        self.kor = kor\n",
    "        self.eng = eng\n",
    "        self.math = math   \n",
    "        \n",
    "        Student.count += 1\n",
    "        Student.students.append(self)\n",
    "        \n",
    "    @classmethod\n",
    "    def print(cls):\n",
    "        print(\"--------학생 목록------------\")\n",
    "        print(\"이름\\t총점\\t평균\")\n",
    "        for student in cls.students:\n",
    "            print(str(student))\n",
    "        print(\"----------------------------\")\n",
    "\n",
    "    def get_sum(self):\n",
    "        return self.kor + self.eng + self.math\n",
    "    def get_avg(self):\n",
    "        return self.get_sum()/3\n",
    "    def __str__(self):\n",
    "        return \"{}\\t{}\\t{}\\t{}\\t{}\\t{:0.3f}\".format(self.name, \n",
    "                    self.kor, self.eng,self.math,\n",
    "                    self.get_sum(),self.get_avg())   "
   ]
  },
  {
   "cell_type": "code",
   "execution_count": 18,
   "id": "e15aaf5a",
   "metadata": {},
   "outputs": [
    {
     "name": "stdout",
     "output_type": "stream",
     "text": [
      "학생 이름 입력 >a\n",
      "국어 , 영어, 수학 점수 입력 > 1 2 3\n",
      "학생 이름 입력 >b\n",
      "국어 , 영어, 수학 점수 입력 > 2 3 4\n",
      "학생 이름 입력 >q\n",
      "--------학생 목록------------\n",
      "이름\t총점\t평균\n",
      "a\t1\t2\t3\t6\t2.000\n",
      "b\t2\t3\t4\t9\t3.000\n",
      "----------------------------\n",
      "전체 인원수 : 2, 총점: 15, 평균: 7.500\n"
     ]
    }
   ],
   "source": [
    "while True:\n",
    "    name = input(\"학생 이름 입력 >\")\n",
    "    if name == 'q':\n",
    "        break\n",
    "    score = list(map(int, input(\"국어 , 영어, 수학 점수 입력 > \").split()))\n",
    "    kor = score[0]\n",
    "    eng = score[1]\n",
    "    math = score[2]\n",
    "    Student(name, kor, eng, math)\n",
    "    \n",
    "Student.print()    # clase 매서드\n",
    "total = 0\n",
    "for student in Student.students:\n",
    "    total += student.kor + student.eng + student.math\n",
    "print(\"전체 인원수 : {}, 총점: {}, 평균: {:.3f}\".format(\n",
    "        Student.count, total, total/Student.count))  # 클래스 변수"
   ]
  },
  {
   "cell_type": "code",
   "execution_count": 19,
   "id": "95741855",
   "metadata": {},
   "outputs": [
    {
     "name": "stdout",
     "output_type": "stream",
     "text": [
      "a\t1\t2\t3\t6\t2.000\n",
      "b\t2\t3\t4\t9\t3.000\n"
     ]
    }
   ],
   "source": [
    "for student in Student.students:\n",
    "    print(str(student))"
   ]
  },
  {
   "cell_type": "code",
   "execution_count": 29,
   "id": "bf5c6d04",
   "metadata": {},
   "outputs": [],
   "source": [
    "class Circle:\n",
    "    \n",
    "    def __init__(self, rad):\n",
    "        self.__rad = rad     # private 변수는 class 밖으로 나갈 수 없음\n",
    "    def get_cir(self):\n",
    "        return self.__rad * 2 * 3.14\n",
    "    \n",
    "    def get_area(self):\n",
    "        return self.__rad * self.__rad * 3.14\n",
    "    \n",
    "    \n",
    "    # 그래서 private 변수는 함수를 통해 출력 가능\n",
    "    def get_rad(self):           # 게터\n",
    "        return self.__rad\n",
    "    \n",
    "    def set_rad(self, value):    # 세터\n",
    "        self.__rad = value"
   ]
  },
  {
   "cell_type": "code",
   "execution_count": 34,
   "id": "29fccac3",
   "metadata": {},
   "outputs": [
    {
     "name": "stdout",
     "output_type": "stream",
     "text": [
      "10\n",
      "314.0\n"
     ]
    }
   ],
   "source": [
    "cir = Circle(10)\n",
    "print(cir.get_rad())\n",
    "\n",
    "print(cir.get_area())"
   ]
  },
  {
   "cell_type": "code",
   "execution_count": 40,
   "id": "dd1bdc0d",
   "metadata": {},
   "outputs": [
    {
     "name": "stdout",
     "output_type": "stream",
     "text": [
      "학생 이름, 점수 > a 1\n",
      "학생 이름, 점수 > b 2\n",
      "학생 이름, 점수 > q\n",
      "[['a', '1'], ['b', '2']]\n",
      "\n",
      "[('a', [1]), ('b', [2])]\n"
     ]
    }
   ],
   "source": [
    "# 학생들의 이름과 점수를 입력받아 리스트에 저장 후 자료 출력\n",
    "# 학생들의 이름과 점수를 입력받아 딕셔너리에 저장 후 자료 출력\n",
    "# 클래스를 생성하여 입력 후 출력\n",
    "\n",
    "dic_st = {}\n",
    "lst_st = []\n",
    "while 1:\n",
    "    st = input(\"학생 이름, 점수 > \").split()\n",
    "\n",
    "    if st[0] == 'q':\n",
    "        break\n",
    "\n",
    "    lst_st.append(st)\n",
    "    dic_st[st[0]] = list(map(int,(st[1:])))\n",
    "\n",
    "print(lst_st)\n",
    "print()\n",
    "print(list(dic_st.items()))\n"
   ]
  },
  {
   "cell_type": "code",
   "execution_count": null,
   "id": "91084ff5",
   "metadata": {},
   "outputs": [],
   "source": []
  }
 ],
 "metadata": {
  "kernelspec": {
   "display_name": "Python 3 (ipykernel)",
   "language": "python",
   "name": "python3"
  },
  "language_info": {
   "codemirror_mode": {
    "name": "ipython",
    "version": 3
   },
   "file_extension": ".py",
   "mimetype": "text/x-python",
   "name": "python",
   "nbconvert_exporter": "python",
   "pygments_lexer": "ipython3",
   "version": "3.9.7"
  }
 },
 "nbformat": 4,
 "nbformat_minor": 5
}
