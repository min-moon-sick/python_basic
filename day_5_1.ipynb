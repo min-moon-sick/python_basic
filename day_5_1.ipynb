{
 "cells": [
  {
   "cell_type": "code",
   "execution_count": 3,
   "id": "c1de9fd4",
   "metadata": {},
   "outputs": [
    {
     "name": "stdout",
     "output_type": "stream",
     "text": [
      "-0.5440211108893698\n",
      "6\n",
      "5\n"
     ]
    }
   ],
   "source": [
    "# 표준 모델 삽입\n",
    "import math\n",
    "\n",
    "print(math.sin(10))\n",
    "print(math.ceil(5.6))  # 내부 숫자보다 큰 가장 작은 정수 (올림)\n",
    "print(math.floor(5.6)) # 내부 숫자보다 작은 정수 중에 가장 큰 정수(버림)"
   ]
  },
  {
   "cell_type": "code",
   "execution_count": 5,
   "id": "2a1c32aa",
   "metadata": {},
   "outputs": [
    {
     "name": "stdout",
     "output_type": "stream",
     "text": [
      "-0.8390715290764524\n",
      "6\n",
      "5\n"
     ]
    }
   ],
   "source": [
    "from math import cos, ceil, floor\n",
    "\n",
    "print(cos(10))\n",
    "print(ceil(5.6))\n",
    "print(floor(5.6))"
   ]
  },
  {
   "cell_type": "code",
   "execution_count": 11,
   "id": "393c909d",
   "metadata": {},
   "outputs": [
    {
     "name": "stdout",
     "output_type": "stream",
     "text": [
      "random() :  0.7068149868562386\n",
      "uniform() :  13.056457585335538\n",
      "randrange() :  10\n",
      "choice() :  7\n",
      "shuffle() :  None [0, 7, 5, 8, 3, 1, 2, 6, 9, 4]\n",
      "sample() :  [8, 3, 9]\n"
     ]
    }
   ],
   "source": [
    "import random as rnd\n",
    "\n",
    "#rand() : 0.0 < x < 1.0 사이의 float 리턴\n",
    "print(\"random() : \", rnd.random() )\n",
    "\n",
    "#uniform(min, max) : min < x < max 사이의 float 리턴\n",
    "print(\"uniform() : \", rnd.uniform(10, 20) )\n",
    "\n",
    "#randrange([min,], max) : 0.0 < x < 1.0 사이의 int 리턴, 0부터 max\n",
    "print(\"randrange() : \", rnd.randrange(10,20) )\n",
    "\n",
    "#choice(list) : 리스트 내부의 임의의 요소를 리턴\n",
    "print(\"choice() : \", rnd.choice(list(range(10))))\n",
    "\n",
    "#shuffle(list) : 리스트 요소를 랜덤하게 리턴\n",
    "a = list(range(10))\n",
    "print(\"shuffle() : \", rnd.shuffle(a),a)\n",
    "\n",
    "#sample(list) : 리스트에서 숫자의 갯수 요소를 랜덤하게 리턴\n",
    "a = list(range(10))\n",
    "print(\"sample() : \", rnd.sample(a, k=3))\n"
   ]
  },
  {
   "cell_type": "code",
   "execution_count": 12,
   "id": "64e2c69a",
   "metadata": {},
   "outputs": [
    {
     "name": "stdout",
     "output_type": "stream",
     "text": [
      "copyright :  Copyright (c) 2001-2021 Python Software Foundation.\n",
      "All Rights Reserved.\n",
      "\n",
      "Copyright (c) 2000 BeOpen.com.\n",
      "All Rights Reserved.\n",
      "\n",
      "Copyright (c) 1995-2001 Corporation for National Research Initiatives.\n",
      "All Rights Reserved.\n",
      "\n",
      "Copyright (c) 1991-1995 Stichting Mathematisch Centrum, Amsterdam.\n",
      "All Rights Reserved.\n",
      "version :  3.9.7 (default, Sep 16 2021, 16:59:28) [MSC v.1916 64 bit (AMD64)]\n"
     ]
    }
   ],
   "source": [
    "import sys\n",
    "\n",
    "print(\"copyright : \", sys.copyright)\n",
    "print(\"version : \", sys.version)\n",
    "# sys.exit()"
   ]
  },
  {
   "cell_type": "code",
   "execution_count": 22,
   "id": "b956e187",
   "metadata": {},
   "outputs": [
    {
     "name": "stdout",
     "output_type": "stream",
     "text": [
      "현재 운영체제 :  nt\n",
      "현재 작업 경로 :  C:\\Users\\HPE\\Documents\\python_basic\\python_basic\n",
      "현재 폴더 리스트 :  ['.git', '.ipynb_checkpoints', 'a.txt', 'dataset', 'day_01.ipynb', 'day_02.ipynb', 'day_1.ipynb', 'day_3.ipynb', 'day_4.ipynb', 'file.txt', 'Untitled.ipynb']\n"
     ]
    },
    {
     "name": "stderr",
     "output_type": "stream",
     "text": [
      "'ls'은(는) 내부 또는 외부 명령, 실행할 수 있는 프로그램, 또는\n",
      "배치 파일이 아닙니다.\n"
     ]
    }
   ],
   "source": [
    "# os 모듈 : 운영체제와 관련된 명령어\n",
    "import os\n",
    "\n",
    "print(\"현재 운영체제 : \", os.name)\n",
    "print(\"현재 작업 경로 : \", os.getcwd())\n",
    "print(\"현재 폴더 리스트 : \", os.listdir())\n",
    "\n",
    "#디렉토리 생성 및 삭제\n",
    "# os.mkdir('test_dir')\n",
    "# os.rmdir('test_dir')\n",
    "\n",
    "# 파일 이름 변경 rename(old_name, new_name)\n",
    "# 파일 삭제 remove(파일 이름)\n",
    "# os.rename()\n",
    "# os.remove()\n",
    "\n",
    "# 시스템 명령어 ! 명령어\n",
    "# !dir"
   ]
  },
  {
   "cell_type": "code",
   "execution_count": 25,
   "id": "da9b516c",
   "metadata": {},
   "outputs": [
    {
     "name": "stdout",
     "output_type": "stream",
     "text": [
      "2021-12-29 10:23:14.143973\n",
      "2021-12-29 10:23:14.143973\n"
     ]
    }
   ],
   "source": [
    "# datetime 모듈 : 날짜를 형식에 맞게 편집 가능\n",
    "import datetime as dt\n",
    "\n",
    "print(dt.datetime.now())\n",
    "print(dt.datetime.today())"
   ]
  },
  {
   "cell_type": "code",
   "execution_count": 53,
   "id": "9a62b480",
   "metadata": {},
   "outputs": [
    {
     "name": "stdout",
     "output_type": "stream",
     "text": [
      "time start\n",
      "time end\n"
     ]
    }
   ],
   "source": [
    "# time 모듈 : 일정 시간 멈추는 것을 할 수 있음\n",
    "import time\n",
    "\n",
    "print(\"time start\")\n",
    "time.sleep(3)\n",
    "print(\"time end\")"
   ]
  },
  {
   "cell_type": "code",
   "execution_count": 92,
   "id": "0573b0f7",
   "metadata": {},
   "outputs": [],
   "source": [
    "# urllib 모듈 : url 라이브러리\n",
    "from urllib import request\n",
    "\n",
    "#urlopen(target)\n",
    "target = request.urlopen('https://www.google.com')\n",
    "# print(target.read())"
   ]
  },
  {
   "cell_type": "code",
   "execution_count": 94,
   "id": "4337b445",
   "metadata": {},
   "outputs": [],
   "source": [
    "# <html> ~ <\\html> tag 형식으로 변환해 주는 모듈 : BeautifulSoup\n",
    "\n",
    "# ! pip install beautifulsoup4\n",
    "from bs4 import BeautifulSoup\n",
    "\n",
    "# soup = BeautifulSoup(target)\n",
    "\n",
    "# soup.title\n",
    "# # <title>The Dormouse's story</title>\n",
    "\n",
    "# soup.title.name\n",
    "# # u'title'\n",
    "\n",
    "# soup.title.string\n",
    "# # u'The Dormouse's story'\n",
    "\n",
    "# soup.title.parent.name\n",
    "# # u'head'\n",
    "\n",
    "# soup.p\n",
    "# # <p class=\"title\"><b>The Dormouse's story</b></p>\n",
    "\n",
    "# soup.a\n",
    "# # <a class=\"sister\" href=\"http://example.com/elsie\" id=\"link1\">Elsie</a>\n",
    "\n",
    "# soup.find_all('a')\n",
    "# # [<a class=\"sister\" href=\"http://example.com/elsie\" id=\"link1\">Elsie</a>,\n",
    "# #  <a class=\"sister\" href=\"http://example.com/lacie\" id=\"link2\">Lacie</a>,\n",
    "# #  <a class=\"sister\" href=\"http://example.com/tillie\" id=\"link3\">Tillie</a>]\n",
    "\n",
    "# soup.find(id=\"link3\")\n",
    "# # <a class=\"sister\" href=\"http://example.com/tillie\" id=\"link3\">Tillie</a>\n"
   ]
  },
  {
   "cell_type": "code",
   "execution_count": 138,
   "id": "743403b5",
   "metadata": {},
   "outputs": [],
   "source": [
    "# 기상청 날씨 예보를 가져와서 보여줌\n",
    "# url에 연결 -> urllib.request.urlopen(url명)\n",
    "# url에서 자료를 가져옴 -> <html> ~ <\\html> 태그 형식으로 가져옴\n",
    "# beautifulsoup(url open 정보)\n",
    "\n",
    "from urllib import request\n",
    "from bs4 import BeautifulSoup as bs\n",
    "\n",
    "url = 'https://www.weather.go.kr/w/weather/forecast/mid-term.do'\n",
    "target = request.urlopen(url)\n",
    "\n",
    "soup = bs(target, \"html.parser\")"
   ]
  },
  {
   "cell_type": "code",
   "execution_count": 128,
   "id": "83dca6a6",
   "metadata": {},
   "outputs": [
    {
     "name": "stdout",
     "output_type": "stream",
     "text": [
      "['서울인천경기도', '강원도영서', '강원도영동', '대전세종충청남도', '충청북도', '광주전라남도', '전라북도', '부산울산경상남도', '대구경상북도', '제주도']\n"
     ]
    }
   ],
   "source": [
    "loc_list = []\n",
    "for location in soup.select(\"td.midterm-province\"):\n",
    "#     print(location.text)\n",
    "    loc_list.append(location.text)\n",
    "print(loc_list)"
   ]
  },
  {
   "cell_type": "code",
   "execution_count": 129,
   "id": "ec84ef5d",
   "metadata": {},
   "outputs": [
    {
     "name": "stdout",
     "output_type": "stream",
     "text": [
      "서울\n",
      "인천\n",
      "수원\n",
      "파주\n",
      "이천\n",
      "평택\n",
      "춘천\n",
      "원주\n",
      "강릉\n",
      "대전\n",
      "세종\n",
      "홍성\n",
      "청주\n",
      "충주\n",
      "영동\n",
      "광주\n",
      "목포\n",
      "여수\n",
      "순천\n",
      "광양\n",
      "나주\n",
      "전주\n",
      "군산\n",
      "정읍\n",
      "남원\n",
      "고창\n",
      "무주\n",
      "부산\n",
      "울산\n",
      "창원\n",
      "진주\n",
      "거창\n",
      "통영\n",
      "대구\n",
      "안동\n",
      "포항\n",
      "경주\n",
      "울진\n",
      "울릉도\n",
      "제주\n",
      "서귀포\n"
     ]
    }
   ],
   "source": [
    "for location in soup.find_all('td', class_='midterm-city'):\n",
    "    print(location.text)\n"
   ]
  },
  {
   "cell_type": "code",
   "execution_count": 140,
   "id": "9e8506d6",
   "metadata": {},
   "outputs": [
    {
     "name": "stdout",
     "output_type": "stream",
     "text": [
      "도시명 : 서울, 최저기온 : -9, 최고기온 : 0\n",
      "도시명 : 인천, 최저기온 : -8, 최고기온 : 0\n",
      "도시명 : 수원, 최저기온 : -10, 최고기온 : 1\n",
      "도시명 : 파주, 최저기온 : -15, 최고기온 : 0\n",
      "도시명 : 이천, 최저기온 : -12, 최고기온 : 0\n",
      "도시명 : 평택, 최저기온 : -11, 최고기온 : 1\n",
      "도시명 : 춘천, 최저기온 : -14, 최고기온 : 0\n",
      "도시명 : 원주, 최저기온 : -12, 최고기온 : 0\n",
      "도시명 : 강릉, 최저기온 : -6, 최고기온 : 5\n",
      "도시명 : 대전, 최저기온 : -9, 최고기온 : 2\n",
      "도시명 : 세종, 최저기온 : -10, 최고기온 : 1\n",
      "도시명 : 홍성, 최저기온 : -10, 최고기온 : 2\n",
      "도시명 : 청주, 최저기온 : -9, 최고기온 : 1\n",
      "도시명 : 충주, 최저기온 : -12, 최고기온 : 0\n",
      "도시명 : 영동, 최저기온 : -12, 최고기온 : 2\n",
      "도시명 : 광주, 최저기온 : -5, 최고기온 : 5\n",
      "도시명 : 목포, 최저기온 : -3, 최고기온 : 4\n",
      "도시명 : 여수, 최저기온 : -3, 최고기온 : 5\n",
      "도시명 : 순천, 최저기온 : -4, 최고기온 : 6\n",
      "도시명 : 광양, 최저기온 : -4, 최고기온 : 6\n",
      "도시명 : 나주, 최저기온 : -7, 최고기온 : 4\n",
      "도시명 : 전주, 최저기온 : -7, 최고기온 : 3\n",
      "도시명 : 군산, 최저기온 : -7, 최고기온 : 3\n",
      "도시명 : 정읍, 최저기온 : -8, 최고기온 : 2\n",
      "도시명 : 남원, 최저기온 : -8, 최고기온 : 4\n",
      "도시명 : 고창, 최저기온 : -6, 최고기온 : 3\n",
      "도시명 : 무주, 최저기온 : -12, 최고기온 : 2\n",
      "도시명 : 부산, 최저기온 : -4, 최고기온 : 6\n",
      "도시명 : 울산, 최저기온 : -5, 최고기온 : 5\n",
      "도시명 : 창원, 최저기온 : -5, 최고기온 : 4\n",
      "도시명 : 진주, 최저기온 : -8, 최고기온 : 5\n",
      "도시명 : 거창, 최저기온 : -10, 최고기온 : 5\n",
      "도시명 : 통영, 최저기온 : -4, 최고기온 : 5\n",
      "도시명 : 대구, 최저기온 : -7, 최고기온 : 4\n",
      "도시명 : 안동, 최저기온 : -12, 최고기온 : 2\n",
      "도시명 : 포항, 최저기온 : -5, 최고기온 : 6\n",
      "도시명 : 경주, 최저기온 : -8, 최고기온 : 5\n",
      "도시명 : 울진, 최저기온 : -6, 최고기온 : 6\n",
      "도시명 : 울릉도, 최저기온 : -1, 최고기온 : 4\n",
      "도시명 : 제주, 최저기온 : 3, 최고기온 : 8\n",
      "도시명 : 서귀포, 최저기온 : 3, 최고기온 : 10\n"
     ]
    }
   ],
   "source": [
    "for location in soup.find_all('tr'):\n",
    "    if location.find('td', class_ = 'midterm-city'):\n",
    "        print(\"도시명 : {}, 최저기온 : {}, 최고기온 : {}\".format(\n",
    "        location.find('td', class_= 'midterm-city').text,\n",
    "        location.find('span', class_= 'tmn').text,\n",
    "        location.find('span', class_= 'tmx').text))"
   ]
  },
  {
   "cell_type": "code",
   "execution_count": 151,
   "id": "4c4946ce",
   "metadata": {},
   "outputs": [],
   "source": [
    "# ! pip install flask\n",
    "\n",
    "from flask import Flask\n",
    "\n",
    "app = Flask(__name__)\n",
    "\n",
    "@app.route(\"/\")\n",
    "\n",
    "def hello():\n",
    "    return \"<h1>Hello!<\\h1>\""
   ]
  },
  {
   "cell_type": "code",
   "execution_count": 153,
   "id": "146ff778",
   "metadata": {},
   "outputs": [
    {
     "name": "stdout",
     "output_type": "stream",
     "text": [
      "Hello start\n",
      "hello\n",
      "Hello end\n"
     ]
    }
   ],
   "source": [
    "# 함수 데코레이터\n",
    "\n",
    "def test(func):\n",
    "    def wrapper():\n",
    "        print(\"Hello start\")\n",
    "        func()\n",
    "        print(\"Hello end\")\n",
    "        \n",
    "    return wrapper\n",
    "\n",
    "#데코레이션 함수\n",
    "@test\n",
    "def hello():\n",
    "    print(\"hello\")\n",
    "    \n",
    "hello()"
   ]
  },
  {
   "cell_type": "code",
   "execution_count": 154,
   "id": "39cc7146",
   "metadata": {},
   "outputs": [],
   "source": [
    "# 모듈 만들기\n",
    "\n",
    "import os\n",
    "# os.mkdir(\"module_basic\")\n"
   ]
  },
  {
   "cell_type": "code",
   "execution_count": null,
   "id": "d2feda7d",
   "metadata": {},
   "outputs": [],
   "source": []
  }
 ],
 "metadata": {
  "kernelspec": {
   "display_name": "Python 3 (ipykernel)",
   "language": "python",
   "name": "python3"
  },
  "language_info": {
   "codemirror_mode": {
    "name": "ipython",
    "version": 3
   },
   "file_extension": ".py",
   "mimetype": "text/x-python",
   "name": "python",
   "nbconvert_exporter": "python",
   "pygments_lexer": "ipython3",
   "version": "3.9.7"
  }
 },
 "nbformat": 4,
 "nbformat_minor": 5
}
