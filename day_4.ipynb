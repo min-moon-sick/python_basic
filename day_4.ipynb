{
 "cells": [
  {
   "cell_type": "code",
   "execution_count": 4,
   "id": "7533b0f2",
   "metadata": {},
   "outputs": [
    {
     "name": "stdout",
     "output_type": "stream",
     "text": [
      "120\n"
     ]
    }
   ],
   "source": [
    "# 팩토리얼 함수 구현\n",
    "\n",
    "def factorial(n):\n",
    "    result = 1\n",
    "    \n",
    "    for i in range(2,n+1):\n",
    "        result *= i\n",
    "    return result\n",
    "\n",
    "print(factorial(5))"
   ]
  },
  {
   "cell_type": "code",
   "execution_count": 9,
   "id": "7d52b3b3",
   "metadata": {},
   "outputs": [
    {
     "name": "stdout",
     "output_type": "stream",
     "text": [
      "24\n"
     ]
    }
   ],
   "source": [
    "# 재귀함수를 활용한 팩토리얼\n",
    "\n",
    "def fact(n):\n",
    "    if n == 0:\n",
    "        return 1\n",
    "    else:\n",
    "        return n * fact(n-1)\n",
    "    \n",
    "print(fact(4))"
   ]
  },
  {
   "cell_type": "code",
   "execution_count": 4,
   "id": "7d0ef70d",
   "metadata": {},
   "outputs": [
    {
     "name": "stdout",
     "output_type": "stream",
     "text": [
      "610\n",
      "1219\n"
     ]
    }
   ],
   "source": [
    "# 피보나치 수열(1)\n",
    "\n",
    "def fibo(n):\n",
    "    global cnt\n",
    "    cnt += 1\n",
    "    if n == 1 or n == 2:\n",
    "        return 1\n",
    "    else:\n",
    "        return fibo(n-1) + fibo(n-2)\n",
    "\n",
    "cnt = 0\n",
    "\n",
    "print(fibo(15))\n",
    "print(cnt)"
   ]
  },
  {
   "cell_type": "code",
   "execution_count": 3,
   "id": "47d0a657",
   "metadata": {},
   "outputs": [
    {
     "name": "stdout",
     "output_type": "stream",
     "text": [
      "610\n",
      "27\n"
     ]
    }
   ],
   "source": [
    "# 피보나치 수열(2) 메모화 사용하여 연산량 줄이기\n",
    "\n",
    "def fibo_m(n):\n",
    "    global cnt\n",
    "    cnt += 1\n",
    "    \n",
    "    if n in dict_f:\n",
    "        return dict_f[n]\n",
    "    else:\n",
    "        output = fibo_m(n-1) + fibo_m(n-2)\n",
    "        dict_f[n] = output\n",
    "        return output\n",
    "\n",
    "cnt = 0\n",
    "dict_f = {1:1, 2:1}\n",
    "print(fibo_m(15))\n",
    "print(cnt)\n"
   ]
  },
  {
   "cell_type": "code",
   "execution_count": 8,
   "id": "39486f16",
   "metadata": {},
   "outputs": [
    {
     "name": "stdout",
     "output_type": "stream",
     "text": [
      "10\n",
      "20\n",
      "30\n",
      "40\n",
      "\n",
      "20\n",
      "before => a : 10, b : 20\n",
      "after => a : 20, b : 10\n"
     ]
    }
   ],
   "source": [
    "# tuple : 수정할 수 없는 자료 (), 괄호가 없어도 튜플로 인식됨\n",
    "\n",
    "tuple_test = 10, 20, 30, 40\n",
    "\n",
    "for v in tuple_test:\n",
    "    print(v)\n",
    "    \n",
    "print() \n",
    "print(tuple_test[1])\n",
    "\n",
    "a , b = 10 , 20\n",
    "\n",
    "print(\"before => a : {}, b : {}\".format(a,b))\n",
    "\n",
    "a, b = b , a\n",
    "print(\"after => a : {}, b : {}\".format(a,b))"
   ]
  },
  {
   "cell_type": "code",
   "execution_count": 11,
   "id": "b6e620c0",
   "metadata": {},
   "outputs": [
    {
     "name": "stdout",
     "output_type": "stream",
     "text": [
      "0번째 값 : 1\n",
      "1번째 값 : 2\n",
      "2번째 값 : 3\n",
      "3번째 값 : 4\n",
      "4번째 값 : 5\n",
      "88 / 3 = 29, 1\n"
     ]
    }
   ],
   "source": [
    "for idx, value in enumerate(list(range(1, 6))): # 튜플을 리턴하는 함수 enumerate\n",
    "    print(\"{}번째 값 : {}\".format(idx, value))\n",
    "    \n",
    "a, b = divmod(88,3)\n",
    "\n",
    "print(\"88 / 3 = {}, {}\".format(a,b))"
   ]
  },
  {
   "cell_type": "code",
   "execution_count": 17,
   "id": "053a938b",
   "metadata": {},
   "outputs": [
    {
     "name": "stdout",
     "output_type": "stream",
     "text": [
      "[1, 4, 9, 16, 25]\n",
      "[1, 2]\n"
     ]
    }
   ],
   "source": [
    "# map과 filter 함수 => map(함수, 리스트), filter(함수, 리스트)\n",
    "\n",
    "print(list(map(lambda x: x*x, list(range(1, 6)))))\n",
    "\n",
    "print(list(filter(lambda x: x < 3, list(range(1, 6)))))"
   ]
  },
  {
   "cell_type": "code",
   "execution_count": null,
   "id": "ae37e7c1",
   "metadata": {},
   "outputs": [],
   "source": []
  }
 ],
 "metadata": {
  "kernelspec": {
   "display_name": "Python 3 (ipykernel)",
   "language": "python",
   "name": "python3"
  },
  "language_info": {
   "codemirror_mode": {
    "name": "ipython",
    "version": 3
   },
   "file_extension": ".py",
   "mimetype": "text/x-python",
   "name": "python",
   "nbconvert_exporter": "python",
   "pygments_lexer": "ipython3",
   "version": "3.9.7"
  }
 },
 "nbformat": 4,
 "nbformat_minor": 5
}
