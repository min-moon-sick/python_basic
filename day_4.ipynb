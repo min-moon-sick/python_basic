{
 "cells": [
  {
   "cell_type": "code",
   "execution_count": 4,
   "id": "39557bef",
   "metadata": {},
   "outputs": [
    {
     "name": "stdout",
     "output_type": "stream",
     "text": [
      "120\n"
     ]
    }
   ],
   "source": [
    "# 팩토리얼 함수 구현\n",
    "\n",
    "def factorial(n):\n",
    "    result = 1\n",
    "    \n",
    "    for i in range(2,n+1):\n",
    "        result *= i\n",
    "    return result\n",
    "\n",
    "print(factorial(5))"
   ]
  },
  {
   "cell_type": "code",
   "execution_count": 9,
   "id": "8b639627",
   "metadata": {},
   "outputs": [
    {
     "name": "stdout",
     "output_type": "stream",
     "text": [
      "24\n"
     ]
    }
   ],
   "source": [
    "# 재귀함수를 활용한 팩토리얼\n",
    "\n",
    "def fact(n):\n",
    "    if n == 0:\n",
    "        return 1\n",
    "    else:\n",
    "        return n * fact(n-1)\n",
    "    \n",
    "print(fact(4))"
   ]
  },
  {
   "cell_type": "code",
   "execution_count": 4,
   "id": "1b729906",
   "metadata": {},
   "outputs": [
    {
     "name": "stdout",
     "output_type": "stream",
     "text": [
      "610\n",
      "1219\n"
     ]
    }
   ],
   "source": [
    "# 피보나치 수열(1)\n",
    "\n",
    "def fibo(n):\n",
    "    global cnt\n",
    "    cnt += 1\n",
    "    if n == 1 or n == 2:\n",
    "        return 1\n",
    "    else:\n",
    "        return fibo(n-1) + fibo(n-2)\n",
    "\n",
    "cnt = 0\n",
    "\n",
    "print(fibo(15))\n",
    "print(cnt)"
   ]
  },
  {
   "cell_type": "code",
   "execution_count": 3,
   "id": "b19eb858",
   "metadata": {},
   "outputs": [
    {
     "name": "stdout",
     "output_type": "stream",
     "text": [
      "610\n",
      "27\n"
     ]
    }
   ],
   "source": [
    "# 피보나치 수열(2) 메모화 사용하여 연산량 줄이기\n",
    "\n",
    "def fibo_m(n):\n",
    "    global cnt\n",
    "    cnt += 1\n",
    "    \n",
    "    if n in dict_f:\n",
    "        return dict_f[n]\n",
    "    else:\n",
    "        output = fibo_m(n-1) + fibo_m(n-2)\n",
    "        dict_f[n] = output\n",
    "        return output\n",
    "\n",
    "cnt = 0\n",
    "dict_f = {1:1, 2:1}\n",
    "print(fibo_m(15))\n",
    "print(cnt)\n"
   ]
  },
  {
   "cell_type": "code",
   "execution_count": 8,
   "id": "0636f880",
   "metadata": {},
   "outputs": [
    {
     "name": "stdout",
     "output_type": "stream",
     "text": [
      "10\n",
      "20\n",
      "30\n",
      "40\n",
      "\n",
      "20\n",
      "before => a : 10, b : 20\n",
      "after => a : 20, b : 10\n"
     ]
    }
   ],
   "source": [
    "# tuple : 수정할 수 없는 자료 (), 괄호가 없어도 튜플로 인식됨\n",
    "\n",
    "tuple_test = 10, 20, 30, 40\n",
    "\n",
    "for v in tuple_test:\n",
    "    print(v)\n",
    "    \n",
    "print() \n",
    "print(tuple_test[1])\n",
    "\n",
    "a , b = 10 , 20\n",
    "\n",
    "print(\"before => a : {}, b : {}\".format(a,b))\n",
    "\n",
    "a, b = b , a\n",
    "print(\"after => a : {}, b : {}\".format(a,b))"
   ]
  },
  {
   "cell_type": "code",
   "execution_count": 11,
   "id": "3f85de67",
   "metadata": {},
   "outputs": [
    {
     "name": "stdout",
     "output_type": "stream",
     "text": [
      "0번째 값 : 1\n",
      "1번째 값 : 2\n",
      "2번째 값 : 3\n",
      "3번째 값 : 4\n",
      "4번째 값 : 5\n",
      "88 / 3 = 29, 1\n"
     ]
    }
   ],
   "source": [
    "for idx, value in enumerate(list(range(1, 6))): # 튜플을 리턴하는 함수 enumerate\n",
    "    print(\"{}번째 값 : {}\".format(idx, value))\n",
    "    \n",
    "a, b = divmod(88,3)\n",
    "\n",
    "print(\"88 / 3 = {}, {}\".format(a,b))"
   ]
  },
  {
   "cell_type": "code",
   "execution_count": 17,
   "id": "d0271865",
   "metadata": {},
   "outputs": [
    {
     "name": "stdout",
     "output_type": "stream",
     "text": [
      "[1, 4, 9, 16, 25]\n",
      "[1, 2]\n"
     ]
    }
   ],
   "source": [
    "# map과 filter 함수 => map(함수, 리스트), filter(함수, 리스트)\n",
    "\n",
    "print(list(map(lambda x: x*x, list(range(1, 6)))))\n",
    "\n",
    "print(list(filter(lambda x: x < 3, list(range(1, 6)))))"
   ]
  },
  {
   "cell_type": "code",
   "execution_count": 22,
   "id": "6e560a5b",
   "metadata": {},
   "outputs": [
    {
     "name": "stdout",
     "output_type": "stream",
     "text": [
      "hey\n"
     ]
    }
   ],
   "source": [
    "# file 처리 : open, close, write, read\n",
    "\n",
    "file = open(\"a.txt\", \"w\")\n",
    "file.write(\"hey\")\n",
    "file.close()\n",
    "\n",
    "file = open(\"a.txt\", \"r\")\n",
    "file_data = file.read()\n",
    "print(file_data)\n",
    "file.close()"
   ]
  },
  {
   "cell_type": "code",
   "execution_count": 38,
   "id": "76985fba",
   "metadata": {},
   "outputs": [
    {
     "name": "stdout",
     "output_type": "stream",
     "text": [
      "hey hey hey \n",
      "\n",
      "hey hey hey \n",
      "\n",
      "hey hey hey \n",
      "\n",
      "이름 성적 : > a 1\n",
      "a : 1\n",
      "\n"
     ]
    }
   ],
   "source": [
    "# 파일을 자동으로 close() 시킴\n",
    "\n",
    "with open(\"a.txt\", \"w\") as file_new:\n",
    "    file_new.write(\"hey hey hey \\n\")\n",
    "    file_new.write(\"hey hey hey \\n\")\n",
    "    file_new.write(\"hey hey hey \\n\")\n",
    "    \n",
    "# 저장된 파일의 내용을 라인 단위로 읽기\n",
    "with open(\"a.txt\", \"r\") as file:\n",
    "    for line in file:\n",
    "        print(line)\n",
    "        \n",
    "# 키보드에서 이름 성적을 입력받아 파일에 저장\n",
    "# with open(\"a.txt\", \"w\") as file:\n",
    "#     name, score = input(\"이름 성적 : > \").split()\n",
    "#     file.write(name +',' + score)\n",
    "    \n",
    "file = open(\"a.txt\", \"w+\")   # w+ ,a+\n",
    "name, score = input(\"이름 성적 : > \").split()\n",
    "file.write(name +',' + score + '\\n')    # 역슬래시를 해줘야 다음줄에 기입 가능\n",
    "\n",
    "file.seek(0,0) # 파일의 처음 위치로 이동\n",
    "\n",
    "for line in file:\n",
    "    name, score = line.split(',')\n",
    "    print(name, ':', score)\n",
    "file.close()"
   ]
  },
  {
   "cell_type": "code",
   "execution_count": 90,
   "id": "75495f3b",
   "metadata": {},
   "outputs": [],
   "source": [
    "# 이름, 국어, 영어, 수학 성적을 입력받아 파일 저장 후  file_write()\n",
    "# 검색할 이름을 입력받아 파일에 데이터 검색            file_search()\n",
    "# 검색한 이름과 성적 출력                              \n",
    "# 전체 학생의 인원수와 총점 평균                       file_total()\n",
    "\n",
    "\n",
    "def file_total(file_str):    \n",
    "    return sum(list(map(lambda x : int(x), file_str[1:])))\n",
    "\n",
    "def input_info():\n",
    "    \n",
    "    dict_info = {}\n",
    "    while 1 :\n",
    "        info = input(\"이름 국어 영어 수학 성적 입력 : (입력이 끝났으면 q)\").split()\n",
    "\n",
    "        if info[0] == 'q':\n",
    "            break\n",
    "        \n",
    "        dict_info[info[0]] = info[1:]\n",
    "        \n",
    "    file = open(\"file.txt\", \"w\")\n",
    "    for i, ii in dict_info.items():\n",
    "        file.write(i + ',' + \",\".join(ii) + '\\n')\n",
    "    \n",
    "    file.close()\n",
    "    \n",
    "def file_search():\n",
    "    \n",
    "    total_sum = 0\n",
    "    cnt = 0\n",
    "    while 1 :\n",
    "        \n",
    "        info = input(\"이름 입력 : (입력이 끝났으면 q)\")\n",
    "\n",
    "        if info[0] == 'q':\n",
    "            print(\"전체 학생 인원수 : {}, 총점 : {}, 평균 : {}\".format(len(file_list), total_sum/ cnt, (total_sum/cnt)/len(file_list)))\n",
    "            break\n",
    "            \n",
    "        cnt += 1    \n",
    "        \n",
    "        with open(\"file.txt\",\"r\") as file:\n",
    "\n",
    "            file_list = list(file)\n",
    "            for i in range(len(file_list)):\n",
    "                file_str = file_list[i].split(',')\n",
    "                total_sum += file_total(file_str)\n",
    "\n",
    "                if file_str[0] == info:\n",
    "                    print(file_str)"
   ]
  },
  {
   "cell_type": "code",
   "execution_count": 91,
   "id": "bd20a6df",
   "metadata": {},
   "outputs": [
    {
     "name": "stdout",
     "output_type": "stream",
     "text": [
      "이름 입력 : (입력이 끝났으면 q)홍길동\n",
      "['홍길동', '1', '2', '3\\n']\n",
      "이름 입력 : (입력이 끝났으면 q)이순신\n",
      "['이순신', '2', '3', '4\\n']\n",
      "이름 입력 : (입력이 끝났으면 q)q\n",
      "전체 학생 인원수 : 2, 총점 : 15.0, 평균 : 7.5\n"
     ]
    }
   ],
   "source": [
    "       \n",
    "# input_info()\n",
    "file_search()"
   ]
  },
  {
   "cell_type": "code",
   "execution_count": 97,
   "id": "99ed13a8",
   "metadata": {},
   "outputs": [
    {
     "name": "stdout",
     "output_type": "stream",
     "text": [
      "1\n",
      "2\n",
      "함수 호출 !!\n",
      "3\n",
      "함수 2\n",
      "4\n",
      "함수 3 !!\n"
     ]
    },
    {
     "data": {
      "text/plain": [
       "'test3'"
      ]
     },
     "execution_count": 97,
     "metadata": {},
     "output_type": "execute_result"
    }
   ],
   "source": [
    "# 제너레이터 함수 : next(함수명), 함수 내부에 return 대신 yield 사용\n",
    "\n",
    "def test():\n",
    "    print(\"함수 호출 !!\")\n",
    "    yield \"test1\"\n",
    "    \n",
    "    print(\"함수 2\")\n",
    "    yield \"test2\"\n",
    "    \n",
    "    print(\"함수 3\")\n",
    "    yield \"test3\"\n",
    "    \n",
    "print(\"1\")\n",
    "test()       # 제너레이터 함수는 일반적인 호출로 실행안됨\n",
    "func_ = test()\n",
    "\n",
    "print(\"2\")\n",
    "next(func_)\n",
    "\n",
    "print(\"3\")\n",
    "next(func_)\n",
    "\n",
    "print(\"4\")\n",
    "next(func_)"
   ]
  },
  {
   "cell_type": "code",
   "execution_count": 100,
   "id": "c073e0bc",
   "metadata": {},
   "outputs": [
    {
     "name": "stdout",
     "output_type": "stream",
     "text": [
      "홀수만 출력\n",
      "[1, 3, 5, 7, 9]\n",
      "3이상 7미만 출력\n",
      "[3, 4, 5, 6]\n",
      "제곱해서 50 미만 출력\n",
      "[1, 2, 3, 4, 5, 6, 7]\n"
     ]
    }
   ],
   "source": [
    "#269p 연습문제 2번\n",
    "\n",
    "\n",
    "num = list(range(1,11))\n",
    "\n",
    "print(\"홀수만 출력\")\n",
    "print(list(filter(lambda x : x % 2 == 1,num)))\n",
    "\n",
    "print(\"3이상 7미만 출력\")\n",
    "print(list(filter(lambda x : 3 <= x < 7,num)))\n",
    "\n",
    "print(\"제곱해서 50 미만 출력\")\n",
    "print(list(filter(lambda x : x*x < 50,num)))"
   ]
  },
  {
   "cell_type": "code",
   "execution_count": 102,
   "id": "ce6a7982",
   "metadata": {},
   "outputs": [
    {
     "name": "stdout",
     "output_type": "stream",
     "text": [
      "정수 입력 : >ㅁ\n",
      "입력 오류!!\n"
     ]
    }
   ],
   "source": [
    "# try ~ except 예외처리\n",
    "\n",
    "try:\n",
    "    input_num = int(input(\"정수 입력 : >\"))\n",
    "    \n",
    "    print(\"원의 반지름\", input_num)\n",
    "    print(\"원의 둘레\", input_num * 3.14 * 2)\n",
    "    print(\"원의 넓이\", input_num * input_num * 3.14)\n",
    "    \n",
    "except:\n",
    "    print(\"입력 오류!!\")\n",
    "    "
   ]
  },
  {
   "cell_type": "code",
   "execution_count": 103,
   "id": "cafe952e",
   "metadata": {},
   "outputs": [
    {
     "name": "stdout",
     "output_type": "stream",
     "text": [
      "['52', '51', '31']\n"
     ]
    }
   ],
   "source": [
    "# try ~ except pass\n",
    "\n",
    "list_data = ['52', '51','31','a']\n",
    "\n",
    "#숫자만 리스트에 추가\n",
    "\n",
    "list_num = []\n",
    "\n",
    "for i in list_data:\n",
    "    try:\n",
    "        float(i)\n",
    "        list_num.append(i)\n",
    "    except:\n",
    "        pass\n",
    "print(list_num)"
   ]
  },
  {
   "cell_type": "code",
   "execution_count": 108,
   "id": "961558d3",
   "metadata": {},
   "outputs": [
    {
     "name": "stdout",
     "output_type": "stream",
     "text": [
      "정수 입력 > 1\n",
      "1번째 요소 : 273\n"
     ]
    }
   ],
   "source": [
    "# 여러가지 에러 발생 시 에러 종류별로 처리 방법\n",
    "list_num = [52, 273, 45, 66 ,88]\n",
    "\n",
    "try:\n",
    "    input_num = int(input(\"정수 입력 > \"))\n",
    "    print(\"{}번째 요소 : {}\".format(input_num, list_num[input_num]))\n",
    "    \n",
    "except ValueError as ve:\n",
    "    print(\"정수를 입력하세요 :\", ve)\n",
    "    \n",
    "except IndexError as ie:\n",
    "    print(\"리스트의 인덱스 범위 오류 : \",ie)\n",
    "    \n",
    "except Exception as ex:\n",
    "    print(\"알 수 없는 오류\", ex)"
   ]
  },
  {
   "cell_type": "code",
   "execution_count": 111,
   "id": "b189423e",
   "metadata": {},
   "outputs": [
    {
     "name": "stdout",
     "output_type": "stream",
     "text": [
      "정수 입력 > 1\n"
     ]
    },
    {
     "ename": "NotImplementedError",
     "evalue": "",
     "output_type": "error",
     "traceback": [
      "\u001b[1;31m---------------------------------------------------------------------------\u001b[0m",
      "\u001b[1;31mNotImplementedError\u001b[0m                       Traceback (most recent call last)",
      "\u001b[1;32m~\\AppData\\Local\\Temp/ipykernel_5016/1025173122.py\u001b[0m in \u001b[0;36m<module>\u001b[1;34m\u001b[0m\n\u001b[0;32m      3\u001b[0m \u001b[1;32mif\u001b[0m \u001b[0mnum\u001b[0m \u001b[1;33m>\u001b[0m \u001b[1;36m0\u001b[0m\u001b[1;33m:\u001b[0m\u001b[1;33m\u001b[0m\u001b[1;33m\u001b[0m\u001b[0m\n\u001b[0;32m      4\u001b[0m     \u001b[1;31m#양수일 때 아직 미구현 상태\u001b[0m\u001b[1;33m\u001b[0m\u001b[1;33m\u001b[0m\u001b[0m\n\u001b[1;32m----> 5\u001b[1;33m     \u001b[1;32mraise\u001b[0m \u001b[0mNotImplementedError\u001b[0m\u001b[1;33m\u001b[0m\u001b[1;33m\u001b[0m\u001b[0m\n\u001b[0m\u001b[0;32m      6\u001b[0m \u001b[1;32melse\u001b[0m\u001b[1;33m:\u001b[0m\u001b[1;33m\u001b[0m\u001b[1;33m\u001b[0m\u001b[0m\n\u001b[0;32m      7\u001b[0m     \u001b[1;31m# 미구현 상태\u001b[0m\u001b[1;33m\u001b[0m\u001b[1;33m\u001b[0m\u001b[0m\n",
      "\u001b[1;31mNotImplementedError\u001b[0m: "
     ]
    }
   ],
   "source": [
    "num = int(input(\"정수 입력 > \"))\n",
    "\n",
    "if num > 0:\n",
    "    #양수일 때 아직 미구현 상태\n",
    "    raise NotImplementedError\n",
    "else:\n",
    "    # 미구현 상태\n",
    "    raise NotImplementedError"
   ]
  },
  {
   "cell_type": "code",
   "execution_count": 118,
   "id": "c0228b2e",
   "metadata": {},
   "outputs": [
    {
     "name": "stdout",
     "output_type": "stream",
     "text": [
      "홍길동 123-456-789\n",
      "이순신 789-456-123\n",
      "\n"
     ]
    }
   ],
   "source": [
    "# 이름 전화번호를 파일에 저장하는 프로그램 작성\n",
    "# 파일 이름은 \"dataset/telno.txt\", 기존에 파일이 존재하면 데이터 추가로\n",
    "# 저장이 끝나면 파일을 닫고\n",
    "# 전화번호 입력은 숫자 3개를 입력받아 123-456-789 형식으로 저장,\n",
    "# 이름과 전화번호는 ' ' 분리해서 저장\n",
    "# 다시 파일을 열어 파일의 내용을 화면에 출력\n",
    "\n",
    "def save_info():\n",
    "    \n",
    "    while 1:\n",
    "        info = input(\"이름 전화번호 > \").split()\n",
    "\n",
    "        if info[0] == 'q':\n",
    "            file.close()\n",
    "            break\n",
    "        \n",
    "        file = open(\"dataset/telno.txt\", \"a+\")\n",
    "        file.write(info[0] + ' ')\n",
    "        file.write(\"-\".join(info[1:]) + '\\n')\n",
    "        \n",
    "def print_info():\n",
    "    file = open(\"dataset/telno.txt\", \"r\")\n",
    "    print(file.read())\n",
    "    \n",
    "# save_info()\n",
    "print_info()"
   ]
  },
  {
   "cell_type": "code",
   "execution_count": null,
   "id": "662506be",
   "metadata": {},
   "outputs": [],
   "source": []
  }
 ],
 "metadata": {
  "kernelspec": {
   "display_name": "Python 3 (ipykernel)",
   "language": "python",
   "name": "python3"
  },
  "language_info": {
   "codemirror_mode": {
    "name": "ipython",
    "version": 3
   },
   "file_extension": ".py",
   "mimetype": "text/x-python",
   "name": "python",
   "nbconvert_exporter": "python",
   "pygments_lexer": "ipython3",
   "version": "3.9.7"
  }
 },
 "nbformat": 4,
 "nbformat_minor": 5
}
